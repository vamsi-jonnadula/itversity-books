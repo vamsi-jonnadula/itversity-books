{
 "cells": [
  {
   "cell_type": "markdown",
   "metadata": {},
   "source": [
    "# Data Visualization\n",
    "As part of this module I will quickly walk through some of the capabilities of Matplotlib library to visualize our data.\n",
    "\n",
    "* Getting Started\n",
    "* Attributes of a Graph\n",
    "* Overview of LinkedIn Data\n",
    "* Prepare LinkedIn Data (Contacts)\n",
    "* Bar Chart - Contact Count by Source\n",
    "* Prepare LinkedIn Data (Connections)\n",
    "* Plot using loops\n",
    "* Histogram\n",
    "* Pie Chart\n",
    "* Stack Plot\n",
    "* Plotting using Pandas"
   ]
  },
  {
   "cell_type": "markdown",
   "metadata": {},
   "source": [
    "## Getting Started\n",
    "There are several libraries for visualization.\n",
    "* Popular Visualization Libraries.\n",
    "  * Matplotlib\n",
    "  * Plotly\n",
    "  * Seaborn\n",
    "  * Pandas\n",
    "* We can validate whether `matplotlib` exists or not. If it does not exists we can install using `python -m pip install matplotlib`.\n",
    "* We need to import `pyplot` from `matplotlib`"
   ]
  },
  {
   "cell_type": "code",
   "execution_count": 1,
   "metadata": {},
   "outputs": [],
   "source": [
    "from matplotlib import pyplot as plt"
   ]
  },
  {
   "cell_type": "markdown",
   "metadata": {},
   "source": [
    "* We can invoke pyplot's `plot` function to create line graph by passing values for x axis and y axis in the same order."
   ]
  },
  {
   "cell_type": "code",
   "execution_count": 7,
   "metadata": {},
   "outputs": [
    {
     "data": {
      "text/plain": [
       "[<matplotlib.lines.Line2D at 0x11f039750>]"
      ]
     },
     "execution_count": 7,
     "metadata": {},
     "output_type": "execute_result"
    },
    {
     "data": {
      "image/png": "[encoded data removed]",
      "text/plain": [
       "<Figure size 432x288 with 1 Axes>"
      ]
     },
     "metadata": {
      "needs_background": "light"
     },
     "output_type": "display_data"
    }
   ],
   "source": [
    "plt.plot([1, 2, 3, 4], [1, 4, 9, 16])"
   ]
  },
  {
   "cell_type": "markdown",
   "metadata": {},
   "source": [
    "* `pyplot` have function to define labels for x axis and y axis (`xlabel` and `ylabel`)"
   ]
  },
  {
   "cell_type": "code",
   "execution_count": 8,
   "metadata": {},
   "outputs": [
    {
     "data": {
      "image/png": "[encoded data removed]",
      "text/plain": [
       "<Figure size 432x288 with 1 Axes>"
      ]
     },
     "metadata": {
      "needs_background": "light"
     },
     "output_type": "display_data"
    }
   ],
   "source": [
    "plt.xlabel('x')\n",
    "plt.ylabel('x-square')\n",
    "plt.show()"
   ]
  },
  {
   "cell_type": "markdown",
   "metadata": {},
   "source": [
    "* We can apply all the required attributes and then invoke `show` to get more intuitive graph."
   ]
  },
  {
   "cell_type": "code",
   "execution_count": 9,
   "metadata": {},
   "outputs": [
    {
     "data": {
      "image/png": "[encoded data removed]",
      "text/plain": [
       "<Figure size 432x288 with 1 Axes>"
      ]
     },
     "metadata": {
      "needs_background": "light"
     },
     "output_type": "display_data"
    }
   ],
   "source": [
    "plt.plot([1, 2, 3, 4], [1, 4, 9, 16])\n",
    "plt.xlabel('x')\n",
    "plt.ylabel('x-square')\n",
    "plt.show()"
   ]
  },
  {
   "cell_type": "markdown",
   "metadata": {},
   "source": [
    "#### Using seaborn"
   ]
  },
  {
   "cell_type": "code",
   "execution_count": 11,
   "metadata": {},
   "outputs": [],
   "source": [
    "import seaborn as sb"
   ]
  },
  {
   "cell_type": "code",
   "execution_count": 14,
   "metadata": {},
   "outputs": [
    {
     "data": {
      "text/html": [
       "<div>\n",
       "<style scoped>\n",
       "    .dataframe tbody tr th:only-of-type {\n",
       "        vertical-align: middle;\n",
       "    }\n",
       "\n",
       "    .dataframe tbody tr th {\n",
       "        vertical-align: top;\n",
       "    }\n",
       "\n",
       "    .dataframe thead th {\n",
       "        text-align: right;\n",
       "    }\n",
       "</style>\n",
       "<table border=\"1\" class=\"dataframe\">\n",
       "  <thead>\n",
       "    <tr style=\"text-align: right;\">\n",
       "      <th></th>\n",
       "      <th>x</th>\n",
       "      <th>x-square</th>\n",
       "    </tr>\n",
       "  </thead>\n",
       "  <tbody>\n",
       "    <tr>\n",
       "      <th>0</th>\n",
       "      <td>1</td>\n",
       "      <td>1</td>\n",
       "    </tr>\n",
       "    <tr>\n",
       "      <th>1</th>\n",
       "      <td>2</td>\n",
       "      <td>4</td>\n",
       "    </tr>\n",
       "    <tr>\n",
       "      <th>2</th>\n",
       "      <td>3</td>\n",
       "      <td>9</td>\n",
       "    </tr>\n",
       "    <tr>\n",
       "      <th>3</th>\n",
       "      <td>4</td>\n",
       "      <td>16</td>\n",
       "    </tr>\n",
       "  </tbody>\n",
       "</table>\n",
       "</div>"
      ],
      "text/plain": [
       "   x  x-square\n",
       "0  1         1\n",
       "1  2         4\n",
       "2  3         9\n",
       "3  4        16"
      ]
     },
     "execution_count": 14,
     "metadata": {},
     "output_type": "execute_result"
    }
   ],
   "source": [
    "import pandas as pd\n",
    "\n",
    "x = [1, 2, 3, 4]\n",
    "y = [1, 4, 9, 16]\n",
    "\n",
    "d = {'x': x, 'x-square': y}\n",
    "\n",
    "df = pd.DataFrame(d)\n",
    "df"
   ]
  },
  {
   "cell_type": "code",
   "execution_count": 18,
   "metadata": {},
   "outputs": [
    {
     "data": {
      "image/png": "[encoded data removed]",
      "text/plain": [
       "<Figure size 432x288 with 1 Axes>"
      ]
     },
     "metadata": {
      "needs_background": "light"
     },
     "output_type": "display_data"
    }
   ],
   "source": [
    "ax = sb.lineplot(x='x', y='x-square', data=df)"
   ]
  },
  {
   "cell_type": "markdown",
   "metadata": {},
   "source": [
    "#### Using Pandas"
   ]
  },
  {
   "cell_type": "code",
   "execution_count": 20,
   "metadata": {},
   "outputs": [
    {
     "data": {
      "text/html": [
       "<div>\n",
       "<style scoped>\n",
       "    .dataframe tbody tr th:only-of-type {\n",
       "        vertical-align: middle;\n",
       "    }\n",
       "\n",
       "    .dataframe tbody tr th {\n",
       "        vertical-align: top;\n",
       "    }\n",
       "\n",
       "    .dataframe thead th {\n",
       "        text-align: right;\n",
       "    }\n",
       "</style>\n",
       "<table border=\"1\" class=\"dataframe\">\n",
       "  <thead>\n",
       "    <tr style=\"text-align: right;\">\n",
       "      <th></th>\n",
       "      <th>x</th>\n",
       "      <th>x-square</th>\n",
       "    </tr>\n",
       "  </thead>\n",
       "  <tbody>\n",
       "    <tr>\n",
       "      <th>0</th>\n",
       "      <td>1</td>\n",
       "      <td>1</td>\n",
       "    </tr>\n",
       "    <tr>\n",
       "      <th>1</th>\n",
       "      <td>2</td>\n",
       "      <td>4</td>\n",
       "    </tr>\n",
       "    <tr>\n",
       "      <th>2</th>\n",
       "      <td>3</td>\n",
       "      <td>9</td>\n",
       "    </tr>\n",
       "    <tr>\n",
       "      <th>3</th>\n",
       "      <td>4</td>\n",
       "      <td>16</td>\n",
       "    </tr>\n",
       "  </tbody>\n",
       "</table>\n",
       "</div>"
      ],
      "text/plain": [
       "   x  x-square\n",
       "0  1         1\n",
       "1  2         4\n",
       "2  3         9\n",
       "3  4        16"
      ]
     },
     "execution_count": 20,
     "metadata": {},
     "output_type": "execute_result"
    }
   ],
   "source": [
    "import pandas as pd\n",
    "\n",
    "x = [1, 2, 3, 4]\n",
    "y = [1, 4, 9, 16]\n",
    "\n",
    "d = {'x': x, 'x-square': y}\n",
    "\n",
    "df = pd.DataFrame(d)\n",
    "df"
   ]
  },
  {
   "cell_type": "code",
   "execution_count": 28,
   "metadata": {},
   "outputs": [
    {
     "data": {
      "image/png": "[encoded data removed]",
      "text/plain": [
       "<Figure size 432x288 with 1 Axes>"
      ]
     },
     "metadata": {
      "needs_background": "light"
     },
     "output_type": "display_data"
    }
   ],
   "source": [
    "ax = df.plot(x='x', y='x-square', kind='bar')"
   ]
  },
  {
   "cell_type": "markdown",
   "metadata": {},
   "source": [
    "## Attributes of a graph\n",
    "\n",
    "Here are some of the attributes of a graph.\n",
    "* x-axis and y-axis\n",
    "* Data in x-axis and y-axis\n",
    "* Labels for x-axis and y-axis\n",
    "* At times we might want to display multiple line graphs, in which case we can create legends to define the purpose of each line graph. "
   ]
  },
  {
   "cell_type": "markdown",
   "metadata": {},
   "source": [
    "#### Using Seaborn\n",
    "* Seaborn takes x-axis, y-axis and data in the form of Data Frame"
   ]
  },
  {
   "cell_type": "markdown",
   "metadata": {},
   "source": [
    "#### Plotting using Pandas"
   ]
  },
  {
   "cell_type": "markdown",
   "metadata": {},
   "source": [
    "## Overview of LinkedIn Data\n",
    "Let me explain you about the LinkedIn Data that is being used as part of the demo.\n",
    "* LinkedIn provides data archive on request.\n",
    "* It contains all the data related to us.\n",
    "* Contacts contain all the contacts which LinkedIn got from our mail boxes.\n",
    "* Connections reflect data from our connections. \n",
    "* I have downloaded my data archive and masked names and email ids for this demo.\n",
    "* We will be using plots, histograms, bar charts etc to visualize using LinkedIn data."
   ]
  },
  {
   "cell_type": "markdown",
   "metadata": {},
   "source": [
    "## Prepare LinkedIn Data (Contacts)\n",
    "\n",
    "Let us prepare LinkedIn Data to visualize using Matplot lib.\n",
    "* Read data from the files using Pandas.\n",
    "* We want to plot bar graph using number of contacts from each source.\n",
    "* Logic can be built using Pandas APIs."
   ]
  },
  {
   "cell_type": "code",
   "execution_count": 29,
   "metadata": {},
   "outputs": [],
   "source": [
    "base_dir = '/Users/itversity/Research/data/linkedin'\n",
    "source_file = '{base_dir}/{file_name}'"
   ]
  },
  {
   "cell_type": "code",
   "execution_count": 35,
   "metadata": {},
   "outputs": [
    {
     "data": {
      "text/html": [
       "<div>\n",
       "<style scoped>\n",
       "    .dataframe tbody tr th:only-of-type {\n",
       "        vertical-align: middle;\n",
       "    }\n",
       "\n",
       "    .dataframe tbody tr th {\n",
       "        vertical-align: top;\n",
       "    }\n",
       "\n",
       "    .dataframe thead th {\n",
       "        text-align: right;\n",
       "    }\n",
       "</style>\n",
       "<table border=\"1\" class=\"dataframe\">\n",
       "  <thead>\n",
       "    <tr style=\"text-align: right;\">\n",
       "      <th></th>\n",
       "      <th>Source</th>\n",
       "      <th>FirstName</th>\n",
       "      <th>LastName</th>\n",
       "      <th>Companies</th>\n",
       "      <th>Title</th>\n",
       "      <th>Emails</th>\n",
       "      <th>PhoneNumbers</th>\n",
       "      <th>CreatedAt</th>\n",
       "      <th>Addresses</th>\n",
       "      <th>Sites</th>\n",
       "      <th>InstantMessageHandles</th>\n",
       "      <th>FullName</th>\n",
       "      <th>Birthday</th>\n",
       "      <th>Location</th>\n",
       "      <th>BookmarkedAt</th>\n",
       "      <th>Profiles</th>\n",
       "    </tr>\n",
       "  </thead>\n",
       "  <tbody>\n",
       "    <tr>\n",
       "      <th>0</th>\n",
       "      <td>USER_CREATE</td>\n",
       "      <td>0d65de5e9753379f</td>\n",
       "      <td>6b9a44d428e7cc2e</td>\n",
       "      <td>nan</td>\n",
       "      <td>nan</td>\n",
       "      <td>35a8197725738947@gmail.com, 49a395f8ac58f1c6@y...</td>\n",
       "      <td>nan</td>\n",
       "      <td>7/29/13, 9:53 AM</td>\n",
       "      <td>nan</td>\n",
       "      <td>nan</td>\n",
       "      <td>nan</td>\n",
       "      <td>nan</td>\n",
       "      <td>nan</td>\n",
       "      <td>nan</td>\n",
       "      <td>nan</td>\n",
       "      <td>nan</td>\n",
       "    </tr>\n",
       "    <tr>\n",
       "      <th>1</th>\n",
       "      <td>USER_CREATE</td>\n",
       "      <td>20a8d21852e26649</td>\n",
       "      <td>d4b121c2beb6669c</td>\n",
       "      <td>nan</td>\n",
       "      <td>nan</td>\n",
       "      <td>e89691701d047de0@gmail.com, e4abee738229efa9@g...</td>\n",
       "      <td>nan</td>\n",
       "      <td>7/29/13, 9:53 AM</td>\n",
       "      <td>nan</td>\n",
       "      <td>nan</td>\n",
       "      <td>nan</td>\n",
       "      <td>nan</td>\n",
       "      <td>nan</td>\n",
       "      <td>nan</td>\n",
       "      <td>nan</td>\n",
       "      <td>nan</td>\n",
       "    </tr>\n",
       "    <tr>\n",
       "      <th>2</th>\n",
       "      <td>USER_CREATE</td>\n",
       "      <td>b6c2990ad9b1cfd6</td>\n",
       "      <td>22cfa364779977df</td>\n",
       "      <td>nan</td>\n",
       "      <td>nan</td>\n",
       "      <td>5460e1735173d418@dell.com, 9bee4ea66df84b7b@gm...</td>\n",
       "      <td>nan</td>\n",
       "      <td>7/29/13, 9:53 AM</td>\n",
       "      <td>nan</td>\n",
       "      <td>nan</td>\n",
       "      <td>nan</td>\n",
       "      <td>nan</td>\n",
       "      <td>nan</td>\n",
       "      <td>nan</td>\n",
       "      <td>nan</td>\n",
       "      <td>nan</td>\n",
       "    </tr>\n",
       "    <tr>\n",
       "      <th>3</th>\n",
       "      <td>USER_CREATE</td>\n",
       "      <td>b7f0228d36feca92</td>\n",
       "      <td>c797083392ee2a70</td>\n",
       "      <td>nan</td>\n",
       "      <td>nan</td>\n",
       "      <td>f88558683408fa1d@coveventure.com, 13ef4ca54015...</td>\n",
       "      <td>nan</td>\n",
       "      <td>11/25/15, 7:18 AM</td>\n",
       "      <td>a3e9061733fb1439</td>\n",
       "      <td>nan</td>\n",
       "      <td>215137815ee015e0</td>\n",
       "      <td>nan</td>\n",
       "      <td>nan</td>\n",
       "      <td>nan</td>\n",
       "      <td>nan</td>\n",
       "      <td>nan</td>\n",
       "    </tr>\n",
       "    <tr>\n",
       "      <th>4</th>\n",
       "      <td>USER_CREATE</td>\n",
       "      <td>a90e0e1942a4b359</td>\n",
       "      <td>dbd7539b91612104</td>\n",
       "      <td>nan</td>\n",
       "      <td>nan</td>\n",
       "      <td>1c9b4985d183ec76@wachovia.com, 1c9b4985d183ec7...</td>\n",
       "      <td>nan</td>\n",
       "      <td>1/29/15, 9:39 AM</td>\n",
       "      <td>nan</td>\n",
       "      <td>nan</td>\n",
       "      <td>nan</td>\n",
       "      <td>nan</td>\n",
       "      <td>nan</td>\n",
       "      <td>nan</td>\n",
       "      <td>nan</td>\n",
       "      <td>nan</td>\n",
       "    </tr>\n",
       "  </tbody>\n",
       "</table>\n",
       "</div>"
      ],
      "text/plain": [
       "        Source         FirstName          LastName Companies Title  \\\n",
       "0  USER_CREATE  0d65de5e9753379f  6b9a44d428e7cc2e       nan   nan   \n",
       "1  USER_CREATE  20a8d21852e26649  d4b121c2beb6669c       nan   nan   \n",
       "2  USER_CREATE  b6c2990ad9b1cfd6  22cfa364779977df       nan   nan   \n",
       "3  USER_CREATE  b7f0228d36feca92  c797083392ee2a70       nan   nan   \n",
       "4  USER_CREATE  a90e0e1942a4b359  dbd7539b91612104       nan   nan   \n",
       "\n",
       "                                              Emails PhoneNumbers  \\\n",
       "0  35a8197725738947@gmail.com, 49a395f8ac58f1c6@y...          nan   \n",
       "1  e89691701d047de0@gmail.com, e4abee738229efa9@g...          nan   \n",
       "2  5460e1735173d418@dell.com, 9bee4ea66df84b7b@gm...          nan   \n",
       "3  f88558683408fa1d@coveventure.com, 13ef4ca54015...          nan   \n",
       "4  1c9b4985d183ec76@wachovia.com, 1c9b4985d183ec7...          nan   \n",
       "\n",
       "           CreatedAt         Addresses Sites InstantMessageHandles FullName  \\\n",
       "0   7/29/13, 9:53 AM               nan   nan                   nan      nan   \n",
       "1   7/29/13, 9:53 AM               nan   nan                   nan      nan   \n",
       "2   7/29/13, 9:53 AM               nan   nan                   nan      nan   \n",
       "3  11/25/15, 7:18 AM  a3e9061733fb1439   nan      215137815ee015e0      nan   \n",
       "4   1/29/15, 9:39 AM               nan   nan                   nan      nan   \n",
       "\n",
       "  Birthday Location BookmarkedAt Profiles  \n",
       "0      nan      nan          nan      nan  \n",
       "1      nan      nan          nan      nan  \n",
       "2      nan      nan          nan      nan  \n",
       "3      nan      nan          nan      nan  \n",
       "4      nan      nan          nan      nan  "
      ]
     },
     "execution_count": 35,
     "metadata": {},
     "output_type": "execute_result"
    }
   ],
   "source": [
    "import pandas as pd\n",
    "\n",
    "contacts_src = source_file.format(\n",
    "    base_dir = base_dir,\n",
    "    file_name = 'Contacts.csv'\n",
    ")\n",
    "\n",
    "contacts = pd.read_csv(contacts_src).astype(str)\n",
    "contacts.head()"
   ]
  },
  {
   "cell_type": "code",
   "execution_count": 36,
   "metadata": {},
   "outputs": [
    {
     "data": {
      "text/plain": [
       "array(['USER_CREATE', 'MOBILE_CONTACTS', 'GOOGLE_CONTACTS', 'FILE_UPLOAD',\n",
       "       'ABOOK_IMPORT', 'IPHONE_CALENDAR'], dtype=object)"
      ]
     },
     "execution_count": 36,
     "metadata": {},
     "output_type": "execute_result"
    }
   ],
   "source": [
    "contacts.Source.unique()"
   ]
  },
  {
   "cell_type": "code",
   "execution_count": 39,
   "metadata": {},
   "outputs": [
    {
     "data": {
      "text/plain": [
       "Source\n",
       "ABOOK_IMPORT          10\n",
       "FILE_UPLOAD         1587\n",
       "GOOGLE_CONTACTS    12838\n",
       "IPHONE_CALENDAR       49\n",
       "MOBILE_CONTACTS     1964\n",
       "USER_CREATE            6\n",
       "Name: Source, dtype: int64"
      ]
     },
     "execution_count": 39,
     "metadata": {},
     "output_type": "execute_result"
    }
   ],
   "source": [
    "contacts_count_by_source = contacts. \\\n",
    "    groupby(contacts['Source'])['Source']. \\\n",
    "    count()\n",
    "contacts_count_by_source"
   ]
  },
  {
   "cell_type": "markdown",
   "metadata": {},
   "source": [
    "## Plot Contact Count by Source\n",
    "Let us understand how we can plot using data from Data Frame.\n",
    "* Take the data from contacts_count_by_source.\n",
    "* It is of type Series. Series will have index and values.\n",
    "* In our case index is nothing but contact source and values is nothing but count for each source."
   ]
  },
  {
   "cell_type": "code",
   "execution_count": 41,
   "metadata": {},
   "outputs": [
    {
     "data": {
      "text/plain": [
       "pandas.core.series.Series"
      ]
     },
     "execution_count": 41,
     "metadata": {},
     "output_type": "execute_result"
    }
   ],
   "source": [
    "type(contacts_count_by_source)"
   ]
  },
  {
   "cell_type": "code",
   "execution_count": 44,
   "metadata": {},
   "outputs": [
    {
     "data": {
      "text/plain": [
       "['ABOOK_IMPORT',\n",
       " 'FILE_UPLOAD',\n",
       " 'GOOGLE_CONTACTS',\n",
       " 'IPHONE_CALENDAR',\n",
       " 'MOBILE_CONTACTS',\n",
       " 'USER_CREATE']"
      ]
     },
     "execution_count": 44,
     "metadata": {},
     "output_type": "execute_result"
    }
   ],
   "source": [
    "contacts_count_by_source.index.tolist()"
   ]
  },
  {
   "cell_type": "code",
   "execution_count": 46,
   "metadata": {},
   "outputs": [
    {
     "data": {
      "text/plain": [
       "[10, 1587, 12838, 49, 1964, 6]"
      ]
     },
     "execution_count": 46,
     "metadata": {},
     "output_type": "execute_result"
    }
   ],
   "source": [
    "contacts_count_by_source.values.tolist()"
   ]
  },
  {
   "cell_type": "markdown",
   "metadata": {},
   "source": [
    "* Let us plot contact source on x-axis and count on y-axis.\n",
    "* Let us also define labes for x and y axes."
   ]
  },
  {
   "cell_type": "code",
   "execution_count": 48,
   "metadata": {},
   "outputs": [
    {
     "data": {
      "image/png": "[encoded data removed]",
      "text/plain": [
       "<Figure size 432x288 with 1 Axes>"
      ]
     },
     "metadata": {
      "needs_background": "light"
     },
     "output_type": "display_data"
    }
   ],
   "source": [
    "from matplotlib import pyplot as plt\n",
    "\n",
    "plt.bar(contacts_count_by_source.index.tolist(),\n",
    "        contacts_count_by_source.values.tolist()\n",
    "       )\n",
    "\n",
    "plt.xlabel('Contact Source')\n",
    "plt.ylabel('Count')\n",
    "\n",
    "plt.show()"
   ]
  },
  {
   "cell_type": "markdown",
   "metadata": {},
   "source": [
    "* Contact Source is not rendered properly due to lack of space.\n",
    "* We can improvise by rotating the contact source names using `xticks` for values on x-axis."
   ]
  },
  {
   "cell_type": "code",
   "execution_count": 50,
   "metadata": {},
   "outputs": [
    {
     "data": {
      "image/png": "[encoded data removed]",
      "text/plain": [
       "<Figure size 432x288 with 1 Axes>"
      ]
     },
     "metadata": {
      "needs_background": "light"
     },
     "output_type": "display_data"
    }
   ],
   "source": [
    "from matplotlib import pyplot as plt\n",
    "\n",
    "plt.bar(contacts_count_by_source.index.tolist(),\n",
    "        contacts_count_by_source.values.tolist()\n",
    "       )\n",
    "\n",
    "plt.xlabel('Contact Source')\n",
    "plt.ylabel('Count')\n",
    "\n",
    "plt.xticks(rotation=75)\n",
    "\n",
    "plt.show()"
   ]
  },
  {
   "cell_type": "markdown",
   "metadata": {},
   "source": [
    "#### Using Seaborn"
   ]
  },
  {
   "cell_type": "code",
   "execution_count": 55,
   "metadata": {},
   "outputs": [],
   "source": [
    "import seaborn as sb\n",
    "\n",
    "df = contacts_count_by_source.reset_index(name='Connection Count')\n",
    "labels = df['Source'].tolist()"
   ]
  },
  {
   "cell_type": "code",
   "execution_count": 61,
   "metadata": {},
   "outputs": [
    {
     "data": {
      "image/png": "[encoded data removed]",
      "text/plain": [
       "<Figure size 432x288 with 1 Axes>"
      ]
     },
     "metadata": {
      "needs_background": "light"
     },
     "output_type": "display_data"
    }
   ],
   "source": [
    "ax = sb.barplot(x='Source', y='Connection Count', data=df)\n",
    "ax = ax.set_xticklabels(labels=labels, rotation=75)"
   ]
  },
  {
   "cell_type": "markdown",
   "metadata": {},
   "source": [
    "#### Using Pandas"
   ]
  },
  {
   "cell_type": "code",
   "execution_count": 67,
   "metadata": {},
   "outputs": [
    {
     "data": {
      "image/png": "[encoded data removed]",
      "text/plain": [
       "<Figure size 432x288 with 1 Axes>"
      ]
     },
     "metadata": {
      "needs_background": "light"
     },
     "output_type": "display_data"
    }
   ],
   "source": [
    "ax = contacts_count_by_source.plot(kind='bar')\n",
    "ax = ax.set_xticklabels(contacts_count_by_source.index.tolist(), rotation=75)"
   ]
  },
  {
   "cell_type": "code",
   "execution_count": 74,
   "metadata": {},
   "outputs": [
    {
     "data": {
      "image/png": "[encoded data removed]",
      "text/plain": [
       "<Figure size 432x288 with 1 Axes>"
      ]
     },
     "metadata": {
      "needs_background": "light"
     },
     "output_type": "display_data"
    }
   ],
   "source": [
    "ax = df.plot(kind='bar', x='Source')\n",
    "ax = ax.set_xticklabels(df['Source'].tolist(), rotation=75)"
   ]
  },
  {
   "cell_type": "code",
   "execution_count": null,
   "metadata": {},
   "outputs": [],
   "source": []
  },
  {
   "cell_type": "markdown",
   "metadata": {},
   "source": [
    "* Reading Connection data"
   ]
  },
  {
   "cell_type": "code",
   "execution_count": 75,
   "metadata": {},
   "outputs": [],
   "source": [
    "base_dir = '/Users/itversity/Research/data/linkedin'\n",
    "source_file = '{base_dir}/{file_name}'"
   ]
  },
  {
   "cell_type": "code",
   "execution_count": 76,
   "metadata": {},
   "outputs": [
    {
     "data": {
      "text/html": [
       "<div>\n",
       "<style scoped>\n",
       "    .dataframe tbody tr th:only-of-type {\n",
       "        vertical-align: middle;\n",
       "    }\n",
       "\n",
       "    .dataframe tbody tr th {\n",
       "        vertical-align: top;\n",
       "    }\n",
       "\n",
       "    .dataframe thead th {\n",
       "        text-align: right;\n",
       "    }\n",
       "</style>\n",
       "<table border=\"1\" class=\"dataframe\">\n",
       "  <thead>\n",
       "    <tr style=\"text-align: right;\">\n",
       "      <th></th>\n",
       "      <th>First Name</th>\n",
       "      <th>Last Name</th>\n",
       "      <th>Email Address</th>\n",
       "      <th>Company</th>\n",
       "      <th>Position</th>\n",
       "      <th>Connected On</th>\n",
       "    </tr>\n",
       "  </thead>\n",
       "  <tbody>\n",
       "    <tr>\n",
       "      <th>0</th>\n",
       "      <td>3078a0ab1e55097b</td>\n",
       "      <td>7efe64fafaa00172</td>\n",
       "      <td>nan</td>\n",
       "      <td>Tata Consultancy Services</td>\n",
       "      <td>Big Data Architect</td>\n",
       "      <td>14 Aug 2019</td>\n",
       "    </tr>\n",
       "    <tr>\n",
       "      <th>1</th>\n",
       "      <td>e723cfa0adbed03a</td>\n",
       "      <td>5aa5c3a17b9cedfe</td>\n",
       "      <td>nan</td>\n",
       "      <td>Wavelabs Technologies Private Limited</td>\n",
       "      <td>Manager - HR &amp; Recruitment</td>\n",
       "      <td>14 Aug 2019</td>\n",
       "    </tr>\n",
       "    <tr>\n",
       "      <th>2</th>\n",
       "      <td>cf70f1da79b36bd3</td>\n",
       "      <td>e25bc1fa270e9023</td>\n",
       "      <td>nan</td>\n",
       "      <td>Databricks</td>\n",
       "      <td>Solutions Architect</td>\n",
       "      <td>14 Aug 2019</td>\n",
       "    </tr>\n",
       "    <tr>\n",
       "      <th>3</th>\n",
       "      <td>0a0fe34746b8b234</td>\n",
       "      <td>51ce6d0eecc44d0f</td>\n",
       "      <td>nan</td>\n",
       "      <td>Swimelar CPA, PC</td>\n",
       "      <td>President</td>\n",
       "      <td>14 Aug 2019</td>\n",
       "    </tr>\n",
       "    <tr>\n",
       "      <th>4</th>\n",
       "      <td>b52d63a6f034471c</td>\n",
       "      <td>bea75ca0d82da8df</td>\n",
       "      <td>nan</td>\n",
       "      <td>Tata Consultancy Services</td>\n",
       "      <td>Consultant</td>\n",
       "      <td>14 Aug 2019</td>\n",
       "    </tr>\n",
       "  </tbody>\n",
       "</table>\n",
       "</div>"
      ],
      "text/plain": [
       "         First Name         Last Name Email Address  \\\n",
       "0  3078a0ab1e55097b  7efe64fafaa00172           nan   \n",
       "1  e723cfa0adbed03a  5aa5c3a17b9cedfe           nan   \n",
       "2  cf70f1da79b36bd3  e25bc1fa270e9023           nan   \n",
       "3  0a0fe34746b8b234  51ce6d0eecc44d0f           nan   \n",
       "4  b52d63a6f034471c  bea75ca0d82da8df           nan   \n",
       "\n",
       "                                 Company                    Position  \\\n",
       "0              Tata Consultancy Services          Big Data Architect   \n",
       "1  Wavelabs Technologies Private Limited  Manager - HR & Recruitment   \n",
       "2                             Databricks         Solutions Architect   \n",
       "3                       Swimelar CPA, PC                   President   \n",
       "4              Tata Consultancy Services                  Consultant   \n",
       "\n",
       "  Connected On  \n",
       "0  14 Aug 2019  \n",
       "1  14 Aug 2019  \n",
       "2  14 Aug 2019  \n",
       "3  14 Aug 2019  \n",
       "4  14 Aug 2019  "
      ]
     },
     "execution_count": 76,
     "metadata": {},
     "output_type": "execute_result"
    }
   ],
   "source": [
    "import pandas as pd\n",
    "\n",
    "connections_src = source_file.format(\n",
    "    base_dir = base_dir,\n",
    "    file_name = 'Connections.csv'\n",
    ")\n",
    "\n",
    "connections = pd.read_csv(connections_src).astype(str)\n",
    "connections.head()"
   ]
  },
  {
   "cell_type": "markdown",
   "metadata": {},
   "source": [
    "* Filtering for 2017 and 2018 data."
   ]
  },
  {
   "cell_type": "code",
   "execution_count": 77,
   "metadata": {},
   "outputs": [
    {
     "data": {
      "text/html": [
       "<div>\n",
       "<style scoped>\n",
       "    .dataframe tbody tr th:only-of-type {\n",
       "        vertical-align: middle;\n",
       "    }\n",
       "\n",
       "    .dataframe tbody tr th {\n",
       "        vertical-align: top;\n",
       "    }\n",
       "\n",
       "    .dataframe thead th {\n",
       "        text-align: right;\n",
       "    }\n",
       "</style>\n",
       "<table border=\"1\" class=\"dataframe\">\n",
       "  <thead>\n",
       "    <tr style=\"text-align: right;\">\n",
       "      <th></th>\n",
       "      <th>First Name</th>\n",
       "      <th>Last Name</th>\n",
       "      <th>Email Address</th>\n",
       "      <th>Company</th>\n",
       "      <th>Position</th>\n",
       "      <th>Connected On</th>\n",
       "    </tr>\n",
       "  </thead>\n",
       "  <tbody>\n",
       "    <tr>\n",
       "      <th>2432</th>\n",
       "      <td>dcdbd5ee9cc84b07</td>\n",
       "      <td>c836f47cefaed87a</td>\n",
       "      <td>nan</td>\n",
       "      <td>Virtusa</td>\n",
       "      <td>Senior Consultant</td>\n",
       "      <td>31 Dec 2018</td>\n",
       "    </tr>\n",
       "    <tr>\n",
       "      <th>2433</th>\n",
       "      <td>1b48dd706a05529d</td>\n",
       "      <td>9f020a84886ab17e</td>\n",
       "      <td>nan</td>\n",
       "      <td>Bayer</td>\n",
       "      <td>Data Analytics Lead</td>\n",
       "      <td>31 Dec 2018</td>\n",
       "    </tr>\n",
       "    <tr>\n",
       "      <th>2434</th>\n",
       "      <td>81bd075bec50b585</td>\n",
       "      <td>13750ce1b05934ad</td>\n",
       "      <td>nan</td>\n",
       "      <td>Confidential</td>\n",
       "      <td>Program/Engagement Director -  Innovation &amp; En...</td>\n",
       "      <td>31 Dec 2018</td>\n",
       "    </tr>\n",
       "    <tr>\n",
       "      <th>2435</th>\n",
       "      <td>15be3b238e4156c2</td>\n",
       "      <td>d12a54842ad66bc6</td>\n",
       "      <td>nan</td>\n",
       "      <td>Concirrus</td>\n",
       "      <td>Team Lead (Quest Marine Hull) and Sr. Data Ana...</td>\n",
       "      <td>31 Dec 2018</td>\n",
       "    </tr>\n",
       "    <tr>\n",
       "      <th>2436</th>\n",
       "      <td>b8c9f0200a5342eb</td>\n",
       "      <td>20c7831ec03d8c85</td>\n",
       "      <td>nan</td>\n",
       "      <td>Oalva, Inc.</td>\n",
       "      <td>Hadoop Administrator</td>\n",
       "      <td>31 Dec 2018</td>\n",
       "    </tr>\n",
       "  </tbody>\n",
       "</table>\n",
       "</div>"
      ],
      "text/plain": [
       "            First Name         Last Name Email Address       Company  \\\n",
       "2432  dcdbd5ee9cc84b07  c836f47cefaed87a           nan       Virtusa   \n",
       "2433  1b48dd706a05529d  9f020a84886ab17e           nan         Bayer   \n",
       "2434  81bd075bec50b585  13750ce1b05934ad           nan  Confidential   \n",
       "2435  15be3b238e4156c2  d12a54842ad66bc6           nan     Concirrus   \n",
       "2436  b8c9f0200a5342eb  20c7831ec03d8c85           nan   Oalva, Inc.   \n",
       "\n",
       "                                               Position Connected On  \n",
       "2432                                  Senior Consultant  31 Dec 2018  \n",
       "2433                                Data Analytics Lead  31 Dec 2018  \n",
       "2434  Program/Engagement Director -  Innovation & En...  31 Dec 2018  \n",
       "2435  Team Lead (Quest Marine Hull) and Sr. Data Ana...  31 Dec 2018  \n",
       "2436                               Hadoop Administrator  31 Dec 2018  "
      ]
     },
     "execution_count": 77,
     "metadata": {},
     "output_type": "execute_result"
    }
   ],
   "source": [
    "connections = connections. \\\n",
    "    query('`Connected On`.str.contains(\"2017\") or `Connected On`.str.contains(\"2018\")', engine='python')\n",
    "connections.head()"
   ]
  },
  {
   "cell_type": "markdown",
   "metadata": {},
   "source": [
    "* Getting count by organization"
   ]
  },
  {
   "cell_type": "code",
   "execution_count": 78,
   "metadata": {},
   "outputs": [
    {
     "data": {
      "text/plain": [
       "Company\n",
       "     www.ibridz.com    1\n",
       " -                     2\n",
       " - BSM Group -         1\n",
       " --------              1\n",
       " -----------           1\n",
       "Name: Company, dtype: int64"
      ]
     },
     "execution_count": 78,
     "metadata": {},
     "output_type": "execute_result"
    }
   ],
   "source": [
    "connection_count_by_company = connections.groupby('Company')['Company'].count()\n",
    "connection_count_by_company.head()"
   ]
  },
  {
   "cell_type": "code",
   "execution_count": 79,
   "metadata": {},
   "outputs": [
    {
     "data": {
      "text/plain": [
       "pandas.core.series.Series"
      ]
     },
     "execution_count": 79,
     "metadata": {},
     "output_type": "execute_result"
    }
   ],
   "source": [
    "type(connection_count_by_company)"
   ]
  },
  {
   "cell_type": "code",
   "execution_count": 82,
   "metadata": {},
   "outputs": [
    {
     "data": {
      "text/plain": [
       "Company\n",
       "Accenture                     166\n",
       "Amazon                         53\n",
       "Capgemini                     149\n",
       "Citi                           55\n",
       "Cognizant                     299\n",
       "Confidential                   74\n",
       "DXC Technology                 58\n",
       "Deloitte                       55\n",
       "EY                             52\n",
       "HCL Technologies              104\n",
       "IBM                           127\n",
       "Infosys                       184\n",
       "JPMorgan Chase & Co.           53\n",
       "Microsoft                      52\n",
       "Oracle                         65\n",
       "Tata Consultancy Services     351\n",
       "Tech Mahindra                  86\n",
       "Wipro Limited                  68\n",
       "nan                          1084\n",
       "Name: Company, dtype: int64"
      ]
     },
     "execution_count": 82,
     "metadata": {},
     "output_type": "execute_result"
    }
   ],
   "source": [
    "connection_count_by_company[connection_count_by_company.ge(50) == True]"
   ]
  },
  {
   "cell_type": "code",
   "execution_count": 85,
   "metadata": {},
   "outputs": [
    {
     "data": {
      "text/plain": [
       "Company\n",
       "nan                          1084\n",
       "Tata Consultancy Services     351\n",
       "Cognizant                     299\n",
       "Infosys                       184\n",
       "Accenture                     166\n",
       "                             ... \n",
       "Peterbilt Motors Company        1\n",
       "Petrikore Marketing             1\n",
       "PharmaACE                       1\n",
       "Pharmaceutical MNC              1\n",
       "     www.ibridz.com             1\n",
       "Name: Company, Length: 8584, dtype: int64"
      ]
     },
     "execution_count": 85,
     "metadata": {},
     "output_type": "execute_result"
    }
   ],
   "source": [
    "connection_count_by_company.sort_values(ascending=False)"
   ]
  },
  {
   "cell_type": "markdown",
   "metadata": {},
   "source": [
    "* Filter for Cognizant and count by month"
   ]
  },
  {
   "cell_type": "code",
   "execution_count": 90,
   "metadata": {},
   "outputs": [
    {
     "data": {
      "text/html": [
       "<div>\n",
       "<style scoped>\n",
       "    .dataframe tbody tr th:only-of-type {\n",
       "        vertical-align: middle;\n",
       "    }\n",
       "\n",
       "    .dataframe tbody tr th {\n",
       "        vertical-align: top;\n",
       "    }\n",
       "\n",
       "    .dataframe thead th {\n",
       "        text-align: right;\n",
       "    }\n",
       "</style>\n",
       "<table border=\"1\" class=\"dataframe\">\n",
       "  <thead>\n",
       "    <tr style=\"text-align: right;\">\n",
       "      <th></th>\n",
       "      <th>First Name</th>\n",
       "      <th>Last Name</th>\n",
       "      <th>Email Address</th>\n",
       "      <th>Company</th>\n",
       "      <th>Position</th>\n",
       "      <th>Connected On</th>\n",
       "    </tr>\n",
       "  </thead>\n",
       "  <tbody>\n",
       "    <tr>\n",
       "      <th>2652</th>\n",
       "      <td>9b681fa78fa3dc37</td>\n",
       "      <td>3b55eacd33c74667</td>\n",
       "      <td>nan</td>\n",
       "      <td>Cognizant</td>\n",
       "      <td>Project Associate</td>\n",
       "      <td>17 Dec 2018</td>\n",
       "    </tr>\n",
       "    <tr>\n",
       "      <th>2668</th>\n",
       "      <td>df3e9a753762f58b</td>\n",
       "      <td>88f043c3a7ca8b4f</td>\n",
       "      <td>nan</td>\n",
       "      <td>Cognizant</td>\n",
       "      <td>Programmer</td>\n",
       "      <td>15 Dec 2018</td>\n",
       "    </tr>\n",
       "    <tr>\n",
       "      <th>2674</th>\n",
       "      <td>d552a86183653ec5</td>\n",
       "      <td>8b88f724365cb18a</td>\n",
       "      <td>nan</td>\n",
       "      <td>Cognizant</td>\n",
       "      <td>Associate</td>\n",
       "      <td>15 Dec 2018</td>\n",
       "    </tr>\n",
       "    <tr>\n",
       "      <th>2818</th>\n",
       "      <td>a62716ed9a820f06</td>\n",
       "      <td>a3b4c1e1ee716a6b</td>\n",
       "      <td>nan</td>\n",
       "      <td>Cognizant</td>\n",
       "      <td>Lead Architect</td>\n",
       "      <td>25 Nov 2018</td>\n",
       "    </tr>\n",
       "    <tr>\n",
       "      <th>2826</th>\n",
       "      <td>c21745b409f4c19c</td>\n",
       "      <td>ffe08227ab51600d</td>\n",
       "      <td>nan</td>\n",
       "      <td>Cognizant</td>\n",
       "      <td>Associate</td>\n",
       "      <td>25 Nov 2018</td>\n",
       "    </tr>\n",
       "  </tbody>\n",
       "</table>\n",
       "</div>"
      ],
      "text/plain": [
       "            First Name         Last Name Email Address    Company  \\\n",
       "2652  9b681fa78fa3dc37  3b55eacd33c74667           nan  Cognizant   \n",
       "2668  df3e9a753762f58b  88f043c3a7ca8b4f           nan  Cognizant   \n",
       "2674  d552a86183653ec5  8b88f724365cb18a           nan  Cognizant   \n",
       "2818  a62716ed9a820f06  a3b4c1e1ee716a6b           nan  Cognizant   \n",
       "2826  c21745b409f4c19c  ffe08227ab51600d           nan  Cognizant   \n",
       "\n",
       "               Position Connected On  \n",
       "2652  Project Associate  17 Dec 2018  \n",
       "2668         Programmer  15 Dec 2018  \n",
       "2674          Associate  15 Dec 2018  \n",
       "2818     Lead Architect  25 Nov 2018  \n",
       "2826          Associate  25 Nov 2018  "
      ]
     },
     "execution_count": 90,
     "metadata": {},
     "output_type": "execute_result"
    }
   ],
   "source": [
    "connections[connections['Company'] == 'Cognizant'].head()"
   ]
  },
  {
   "cell_type": "code",
   "execution_count": 92,
   "metadata": {},
   "outputs": [],
   "source": [
    "import datetime\n",
    "connections['Connected Month'] = connections['Connected On']. \\\n",
    "    apply(lambda d: datetime.datetime. \\\n",
    "          strptime(d, '%d %b %Y'). \\\n",
    "          strftime('%Y-%m')\n",
    "         )"
   ]
  },
  {
   "cell_type": "code",
   "execution_count": 93,
   "metadata": {},
   "outputs": [
    {
     "data": {
      "text/html": [
       "<div>\n",
       "<style scoped>\n",
       "    .dataframe tbody tr th:only-of-type {\n",
       "        vertical-align: middle;\n",
       "    }\n",
       "\n",
       "    .dataframe tbody tr th {\n",
       "        vertical-align: top;\n",
       "    }\n",
       "\n",
       "    .dataframe thead th {\n",
       "        text-align: right;\n",
       "    }\n",
       "</style>\n",
       "<table border=\"1\" class=\"dataframe\">\n",
       "  <thead>\n",
       "    <tr style=\"text-align: right;\">\n",
       "      <th></th>\n",
       "      <th>First Name</th>\n",
       "      <th>Last Name</th>\n",
       "      <th>Email Address</th>\n",
       "      <th>Company</th>\n",
       "      <th>Position</th>\n",
       "      <th>Connected On</th>\n",
       "      <th>Connected Month</th>\n",
       "    </tr>\n",
       "  </thead>\n",
       "  <tbody>\n",
       "    <tr>\n",
       "      <th>2432</th>\n",
       "      <td>dcdbd5ee9cc84b07</td>\n",
       "      <td>c836f47cefaed87a</td>\n",
       "      <td>nan</td>\n",
       "      <td>Virtusa</td>\n",
       "      <td>Senior Consultant</td>\n",
       "      <td>31 Dec 2018</td>\n",
       "      <td>2018-12</td>\n",
       "    </tr>\n",
       "    <tr>\n",
       "      <th>2433</th>\n",
       "      <td>1b48dd706a05529d</td>\n",
       "      <td>9f020a84886ab17e</td>\n",
       "      <td>nan</td>\n",
       "      <td>Bayer</td>\n",
       "      <td>Data Analytics Lead</td>\n",
       "      <td>31 Dec 2018</td>\n",
       "      <td>2018-12</td>\n",
       "    </tr>\n",
       "    <tr>\n",
       "      <th>2434</th>\n",
       "      <td>81bd075bec50b585</td>\n",
       "      <td>13750ce1b05934ad</td>\n",
       "      <td>nan</td>\n",
       "      <td>Confidential</td>\n",
       "      <td>Program/Engagement Director -  Innovation &amp; En...</td>\n",
       "      <td>31 Dec 2018</td>\n",
       "      <td>2018-12</td>\n",
       "    </tr>\n",
       "    <tr>\n",
       "      <th>2435</th>\n",
       "      <td>15be3b238e4156c2</td>\n",
       "      <td>d12a54842ad66bc6</td>\n",
       "      <td>nan</td>\n",
       "      <td>Concirrus</td>\n",
       "      <td>Team Lead (Quest Marine Hull) and Sr. Data Ana...</td>\n",
       "      <td>31 Dec 2018</td>\n",
       "      <td>2018-12</td>\n",
       "    </tr>\n",
       "    <tr>\n",
       "      <th>2436</th>\n",
       "      <td>b8c9f0200a5342eb</td>\n",
       "      <td>20c7831ec03d8c85</td>\n",
       "      <td>nan</td>\n",
       "      <td>Oalva, Inc.</td>\n",
       "      <td>Hadoop Administrator</td>\n",
       "      <td>31 Dec 2018</td>\n",
       "      <td>2018-12</td>\n",
       "    </tr>\n",
       "  </tbody>\n",
       "</table>\n",
       "</div>"
      ],
      "text/plain": [
       "            First Name         Last Name Email Address       Company  \\\n",
       "2432  dcdbd5ee9cc84b07  c836f47cefaed87a           nan       Virtusa   \n",
       "2433  1b48dd706a05529d  9f020a84886ab17e           nan         Bayer   \n",
       "2434  81bd075bec50b585  13750ce1b05934ad           nan  Confidential   \n",
       "2435  15be3b238e4156c2  d12a54842ad66bc6           nan     Concirrus   \n",
       "2436  b8c9f0200a5342eb  20c7831ec03d8c85           nan   Oalva, Inc.   \n",
       "\n",
       "                                               Position Connected On  \\\n",
       "2432                                  Senior Consultant  31 Dec 2018   \n",
       "2433                                Data Analytics Lead  31 Dec 2018   \n",
       "2434  Program/Engagement Director -  Innovation & En...  31 Dec 2018   \n",
       "2435  Team Lead (Quest Marine Hull) and Sr. Data Ana...  31 Dec 2018   \n",
       "2436                               Hadoop Administrator  31 Dec 2018   \n",
       "\n",
       "     Connected Month  \n",
       "2432         2018-12  \n",
       "2433         2018-12  \n",
       "2434         2018-12  \n",
       "2435         2018-12  \n",
       "2436         2018-12  "
      ]
     },
     "execution_count": 93,
     "metadata": {},
     "output_type": "execute_result"
    }
   ],
   "source": [
    "connections.head()"
   ]
  },
  {
   "cell_type": "code",
   "execution_count": 94,
   "metadata": {},
   "outputs": [
    {
     "data": {
      "text/plain": [
       "Connected Month\n",
       "2017-01    18\n",
       "2017-02    21\n",
       "2017-03    31\n",
       "2017-04    36\n",
       "2017-05    14\n",
       "Name: Connected Month, dtype: int64"
      ]
     },
     "execution_count": 94,
     "metadata": {},
     "output_type": "execute_result"
    }
   ],
   "source": [
    "connections_cognizant = connections.query('Company == \"Cognizant\"')\n",
    "connections_cognizant_by_month = connections_cognizant. \\\n",
    "    groupby('Connected Month')['Connected Month'].count()\n",
    "connections_cognizant_by_month.head()"
   ]
  },
  {
   "cell_type": "markdown",
   "metadata": {},
   "source": [
    "* Filter for TCS and get count by Month"
   ]
  },
  {
   "cell_type": "code",
   "execution_count": 95,
   "metadata": {},
   "outputs": [
    {
     "data": {
      "text/html": [
       "<div>\n",
       "<style scoped>\n",
       "    .dataframe tbody tr th:only-of-type {\n",
       "        vertical-align: middle;\n",
       "    }\n",
       "\n",
       "    .dataframe tbody tr th {\n",
       "        vertical-align: top;\n",
       "    }\n",
       "\n",
       "    .dataframe thead th {\n",
       "        text-align: right;\n",
       "    }\n",
       "</style>\n",
       "<table border=\"1\" class=\"dataframe\">\n",
       "  <thead>\n",
       "    <tr style=\"text-align: right;\">\n",
       "      <th></th>\n",
       "      <th>First Name</th>\n",
       "      <th>Last Name</th>\n",
       "      <th>Email Address</th>\n",
       "      <th>Company</th>\n",
       "      <th>Position</th>\n",
       "      <th>Connected On</th>\n",
       "      <th>Connected Month</th>\n",
       "    </tr>\n",
       "  </thead>\n",
       "  <tbody>\n",
       "    <tr>\n",
       "      <th>2486</th>\n",
       "      <td>928e1273ab7b5bd7</td>\n",
       "      <td>1eb3d2c06687558d</td>\n",
       "      <td>nan</td>\n",
       "      <td>Tata Consultancy Services</td>\n",
       "      <td>Big Data Developer</td>\n",
       "      <td>28 Dec 2018</td>\n",
       "      <td>2018-12</td>\n",
       "    </tr>\n",
       "    <tr>\n",
       "      <th>2505</th>\n",
       "      <td>e065b88d88554890</td>\n",
       "      <td>afa3fd5761b3249d</td>\n",
       "      <td>nan</td>\n",
       "      <td>Tata Consultancy Services</td>\n",
       "      <td>Big Data Developer</td>\n",
       "      <td>26 Dec 2018</td>\n",
       "      <td>2018-12</td>\n",
       "    </tr>\n",
       "    <tr>\n",
       "      <th>2528</th>\n",
       "      <td>1105430bf40f2e0d</td>\n",
       "      <td>b8716546fcad37d7</td>\n",
       "      <td>nan</td>\n",
       "      <td>Tata Consultancy Services</td>\n",
       "      <td>Assistant System Engineer</td>\n",
       "      <td>25 Dec 2018</td>\n",
       "      <td>2018-12</td>\n",
       "    </tr>\n",
       "    <tr>\n",
       "      <th>2609</th>\n",
       "      <td>4c176d9f43f7980c</td>\n",
       "      <td>a818e3578b06113b</td>\n",
       "      <td>nan</td>\n",
       "      <td>Tata Consultancy Services</td>\n",
       "      <td>System Engineer</td>\n",
       "      <td>21 Dec 2018</td>\n",
       "      <td>2018-12</td>\n",
       "    </tr>\n",
       "    <tr>\n",
       "      <th>2610</th>\n",
       "      <td>49a46d1a4c39accd</td>\n",
       "      <td>fd5257b709efe43c</td>\n",
       "      <td>nan</td>\n",
       "      <td>Tata Consultancy Services</td>\n",
       "      <td>Big data engineer</td>\n",
       "      <td>21 Dec 2018</td>\n",
       "      <td>2018-12</td>\n",
       "    </tr>\n",
       "  </tbody>\n",
       "</table>\n",
       "</div>"
      ],
      "text/plain": [
       "            First Name         Last Name Email Address  \\\n",
       "2486  928e1273ab7b5bd7  1eb3d2c06687558d           nan   \n",
       "2505  e065b88d88554890  afa3fd5761b3249d           nan   \n",
       "2528  1105430bf40f2e0d  b8716546fcad37d7           nan   \n",
       "2609  4c176d9f43f7980c  a818e3578b06113b           nan   \n",
       "2610  49a46d1a4c39accd  fd5257b709efe43c           nan   \n",
       "\n",
       "                        Company                   Position Connected On  \\\n",
       "2486  Tata Consultancy Services         Big Data Developer  28 Dec 2018   \n",
       "2505  Tata Consultancy Services         Big Data Developer  26 Dec 2018   \n",
       "2528  Tata Consultancy Services  Assistant System Engineer  25 Dec 2018   \n",
       "2609  Tata Consultancy Services            System Engineer  21 Dec 2018   \n",
       "2610  Tata Consultancy Services          Big data engineer  21 Dec 2018   \n",
       "\n",
       "     Connected Month  \n",
       "2486         2018-12  \n",
       "2505         2018-12  \n",
       "2528         2018-12  \n",
       "2609         2018-12  \n",
       "2610         2018-12  "
      ]
     },
     "execution_count": 95,
     "metadata": {},
     "output_type": "execute_result"
    }
   ],
   "source": [
    "connections_tcs = connections.query('Company == \"Tata Consultancy Services\"')\n",
    "connections_tcs.head()"
   ]
  },
  {
   "cell_type": "code",
   "execution_count": 96,
   "metadata": {},
   "outputs": [
    {
     "data": {
      "text/plain": [
       "Connected Month\n",
       "2017-01    26\n",
       "2017-02    10\n",
       "2017-03    44\n",
       "2017-04    38\n",
       "2017-05    14\n",
       "Name: Connected Month, dtype: int64"
      ]
     },
     "execution_count": 96,
     "metadata": {},
     "output_type": "execute_result"
    }
   ],
   "source": [
    "connections_tcs_by_month = connections_tcs. \\\n",
    "    groupby('Connected Month')['Connected Month'].count()\n",
    "connections_tcs_by_month.head()"
   ]
  },
  {
   "cell_type": "markdown",
   "metadata": {},
   "source": [
    "## Plot Connection Count by Organization\n",
    "Let us understand the lifecycle of plotting multiple line graphs.\n",
    "* Define x and y axes\n",
    "* Plot for top 2 organizations with labels.\n",
    "* Define x and y labels.\n",
    "* Rotate the months on x-axis.\n",
    "* Display the graph"
   ]
  },
  {
   "cell_type": "code",
   "execution_count": 101,
   "metadata": {},
   "outputs": [
    {
     "data": {
      "image/png": "[encoded data removed]",
      "text/plain": [
       "<Figure size 432x288 with 1 Axes>"
      ]
     },
     "metadata": {
      "needs_background": "light"
     },
     "output_type": "display_data"
    }
   ],
   "source": [
    "from matplotlib import pyplot as plt\n",
    "\n",
    "x1 = connections_cognizant_by_month.index.tolist()\n",
    "y1 = connections_cognizant_by_month.values.tolist()\n",
    "\n",
    "plt.plot(x1, y1, label='Cognizant')\n",
    "\n",
    "x2 = connections_tcs_by_month.index.to_list()\n",
    "y2 = connections_tcs_by_month.values.tolist()\n",
    "\n",
    "plt.plot(x2, y2, label='TCS')\n",
    "\n",
    "plt.xlabel('Connected Month')\n",
    "plt.ylabel('Connection Count')\n",
    "\n",
    "plt.xticks(rotation=85)\n",
    "\n",
    "plt.legend()\n",
    "plt.show()"
   ]
  },
  {
   "cell_type": "markdown",
   "metadata": {},
   "source": [
    "#### Using Seaborn"
   ]
  },
  {
   "cell_type": "code",
   "execution_count": 102,
   "metadata": {},
   "outputs": [
    {
     "data": {
      "text/html": [
       "<div>\n",
       "<style scoped>\n",
       "    .dataframe tbody tr th:only-of-type {\n",
       "        vertical-align: middle;\n",
       "    }\n",
       "\n",
       "    .dataframe tbody tr th {\n",
       "        vertical-align: top;\n",
       "    }\n",
       "\n",
       "    .dataframe thead th {\n",
       "        text-align: right;\n",
       "    }\n",
       "</style>\n",
       "<table border=\"1\" class=\"dataframe\">\n",
       "  <thead>\n",
       "    <tr style=\"text-align: right;\">\n",
       "      <th></th>\n",
       "      <th>First Name</th>\n",
       "      <th>Last Name</th>\n",
       "      <th>Email Address</th>\n",
       "      <th>Company</th>\n",
       "      <th>Position</th>\n",
       "      <th>Connected On</th>\n",
       "    </tr>\n",
       "  </thead>\n",
       "  <tbody>\n",
       "    <tr>\n",
       "      <th>2486</th>\n",
       "      <td>928e1273ab7b5bd7</td>\n",
       "      <td>1eb3d2c06687558d</td>\n",
       "      <td>nan</td>\n",
       "      <td>Tata Consultancy Services</td>\n",
       "      <td>Big Data Developer</td>\n",
       "      <td>28 Dec 2018</td>\n",
       "    </tr>\n",
       "    <tr>\n",
       "      <th>2505</th>\n",
       "      <td>e065b88d88554890</td>\n",
       "      <td>afa3fd5761b3249d</td>\n",
       "      <td>nan</td>\n",
       "      <td>Tata Consultancy Services</td>\n",
       "      <td>Big Data Developer</td>\n",
       "      <td>26 Dec 2018</td>\n",
       "    </tr>\n",
       "    <tr>\n",
       "      <th>2528</th>\n",
       "      <td>1105430bf40f2e0d</td>\n",
       "      <td>b8716546fcad37d7</td>\n",
       "      <td>nan</td>\n",
       "      <td>Tata Consultancy Services</td>\n",
       "      <td>Assistant System Engineer</td>\n",
       "      <td>25 Dec 2018</td>\n",
       "    </tr>\n",
       "    <tr>\n",
       "      <th>2609</th>\n",
       "      <td>4c176d9f43f7980c</td>\n",
       "      <td>a818e3578b06113b</td>\n",
       "      <td>nan</td>\n",
       "      <td>Tata Consultancy Services</td>\n",
       "      <td>System Engineer</td>\n",
       "      <td>21 Dec 2018</td>\n",
       "    </tr>\n",
       "    <tr>\n",
       "      <th>2610</th>\n",
       "      <td>49a46d1a4c39accd</td>\n",
       "      <td>fd5257b709efe43c</td>\n",
       "      <td>nan</td>\n",
       "      <td>Tata Consultancy Services</td>\n",
       "      <td>Big data engineer</td>\n",
       "      <td>21 Dec 2018</td>\n",
       "    </tr>\n",
       "  </tbody>\n",
       "</table>\n",
       "</div>"
      ],
      "text/plain": [
       "            First Name         Last Name Email Address  \\\n",
       "2486  928e1273ab7b5bd7  1eb3d2c06687558d           nan   \n",
       "2505  e065b88d88554890  afa3fd5761b3249d           nan   \n",
       "2528  1105430bf40f2e0d  b8716546fcad37d7           nan   \n",
       "2609  4c176d9f43f7980c  a818e3578b06113b           nan   \n",
       "2610  49a46d1a4c39accd  fd5257b709efe43c           nan   \n",
       "\n",
       "                        Company                   Position Connected On  \n",
       "2486  Tata Consultancy Services         Big Data Developer  28 Dec 2018  \n",
       "2505  Tata Consultancy Services         Big Data Developer  26 Dec 2018  \n",
       "2528  Tata Consultancy Services  Assistant System Engineer  25 Dec 2018  \n",
       "2609  Tata Consultancy Services            System Engineer  21 Dec 2018  \n",
       "2610  Tata Consultancy Services          Big data engineer  21 Dec 2018  "
      ]
     },
     "execution_count": 102,
     "metadata": {},
     "output_type": "execute_result"
    }
   ],
   "source": [
    "base_dir = '/Users/itversity/Research/data/linkedin'\n",
    "source_file = '{base_dir}/{file_name}'\n",
    "\n",
    "import pandas as pd\n",
    "\n",
    "connections_src = source_file.format(\n",
    "    base_dir = base_dir,\n",
    "    file_name = 'Connections.csv'\n",
    ")\n",
    "\n",
    "connections = pd.read_csv(connections_src).astype(str)\n",
    "\n",
    "connections_orgs2 = connections. \\\n",
    "    query('''(`Connected On`.str.contains(\"2017\") \\\n",
    "    or `Connected On`.str.contains(\"2018\")) \\\n",
    "    and Company.isin(['Cognizant', 'Tata Consultancy Services'])\n",
    "    ''', engine='python')\n",
    "connections_orgs2.head()"
   ]
  },
  {
   "cell_type": "code",
   "execution_count": 103,
   "metadata": {},
   "outputs": [
    {
     "name": "stderr",
     "output_type": "stream",
     "text": [
      "/usr/local/lib/python3.7/site-packages/ipykernel_launcher.py:3: SettingWithCopyWarning: \n",
      "A value is trying to be set on a copy of a slice from a DataFrame.\n",
      "Try using .loc[row_indexer,col_indexer] = value instead\n",
      "\n",
      "See the caveats in the documentation: http://pandas.pydata.org/pandas-docs/stable/user_guide/indexing.html#returning-a-view-versus-a-copy\n",
      "  This is separate from the ipykernel package so we can avoid doing imports until\n"
     ]
    },
    {
     "data": {
      "text/html": [
       "<div>\n",
       "<style scoped>\n",
       "    .dataframe tbody tr th:only-of-type {\n",
       "        vertical-align: middle;\n",
       "    }\n",
       "\n",
       "    .dataframe tbody tr th {\n",
       "        vertical-align: top;\n",
       "    }\n",
       "\n",
       "    .dataframe thead th {\n",
       "        text-align: right;\n",
       "    }\n",
       "</style>\n",
       "<table border=\"1\" class=\"dataframe\">\n",
       "  <thead>\n",
       "    <tr style=\"text-align: right;\">\n",
       "      <th></th>\n",
       "      <th>First Name</th>\n",
       "      <th>Last Name</th>\n",
       "      <th>Email Address</th>\n",
       "      <th>Company</th>\n",
       "      <th>Position</th>\n",
       "      <th>Connected On</th>\n",
       "      <th>Connected Month</th>\n",
       "    </tr>\n",
       "  </thead>\n",
       "  <tbody>\n",
       "    <tr>\n",
       "      <th>2486</th>\n",
       "      <td>928e1273ab7b5bd7</td>\n",
       "      <td>1eb3d2c06687558d</td>\n",
       "      <td>nan</td>\n",
       "      <td>Tata Consultancy Services</td>\n",
       "      <td>Big Data Developer</td>\n",
       "      <td>28 Dec 2018</td>\n",
       "      <td>2018-12</td>\n",
       "    </tr>\n",
       "    <tr>\n",
       "      <th>2505</th>\n",
       "      <td>e065b88d88554890</td>\n",
       "      <td>afa3fd5761b3249d</td>\n",
       "      <td>nan</td>\n",
       "      <td>Tata Consultancy Services</td>\n",
       "      <td>Big Data Developer</td>\n",
       "      <td>26 Dec 2018</td>\n",
       "      <td>2018-12</td>\n",
       "    </tr>\n",
       "    <tr>\n",
       "      <th>2528</th>\n",
       "      <td>1105430bf40f2e0d</td>\n",
       "      <td>b8716546fcad37d7</td>\n",
       "      <td>nan</td>\n",
       "      <td>Tata Consultancy Services</td>\n",
       "      <td>Assistant System Engineer</td>\n",
       "      <td>25 Dec 2018</td>\n",
       "      <td>2018-12</td>\n",
       "    </tr>\n",
       "    <tr>\n",
       "      <th>2609</th>\n",
       "      <td>4c176d9f43f7980c</td>\n",
       "      <td>a818e3578b06113b</td>\n",
       "      <td>nan</td>\n",
       "      <td>Tata Consultancy Services</td>\n",
       "      <td>System Engineer</td>\n",
       "      <td>21 Dec 2018</td>\n",
       "      <td>2018-12</td>\n",
       "    </tr>\n",
       "    <tr>\n",
       "      <th>2610</th>\n",
       "      <td>49a46d1a4c39accd</td>\n",
       "      <td>fd5257b709efe43c</td>\n",
       "      <td>nan</td>\n",
       "      <td>Tata Consultancy Services</td>\n",
       "      <td>Big data engineer</td>\n",
       "      <td>21 Dec 2018</td>\n",
       "      <td>2018-12</td>\n",
       "    </tr>\n",
       "  </tbody>\n",
       "</table>\n",
       "</div>"
      ],
      "text/plain": [
       "            First Name         Last Name Email Address  \\\n",
       "2486  928e1273ab7b5bd7  1eb3d2c06687558d           nan   \n",
       "2505  e065b88d88554890  afa3fd5761b3249d           nan   \n",
       "2528  1105430bf40f2e0d  b8716546fcad37d7           nan   \n",
       "2609  4c176d9f43f7980c  a818e3578b06113b           nan   \n",
       "2610  49a46d1a4c39accd  fd5257b709efe43c           nan   \n",
       "\n",
       "                        Company                   Position Connected On  \\\n",
       "2486  Tata Consultancy Services         Big Data Developer  28 Dec 2018   \n",
       "2505  Tata Consultancy Services         Big Data Developer  26 Dec 2018   \n",
       "2528  Tata Consultancy Services  Assistant System Engineer  25 Dec 2018   \n",
       "2609  Tata Consultancy Services            System Engineer  21 Dec 2018   \n",
       "2610  Tata Consultancy Services          Big data engineer  21 Dec 2018   \n",
       "\n",
       "     Connected Month  \n",
       "2486         2018-12  \n",
       "2505         2018-12  \n",
       "2528         2018-12  \n",
       "2609         2018-12  \n",
       "2610         2018-12  "
      ]
     },
     "execution_count": 103,
     "metadata": {},
     "output_type": "execute_result"
    }
   ],
   "source": [
    "import datetime\n",
    "connections_orgs2['Connected Month'] = connections_orgs2['Connected On']. \\\n",
    "    apply(lambda d: datetime.datetime. \\\n",
    "          strptime(d, '%d %b %Y'). \\\n",
    "          strftime('%Y-%m')\n",
    "         )\n",
    "connections_orgs2.head()"
   ]
  },
  {
   "cell_type": "code",
   "execution_count": 144,
   "metadata": {},
   "outputs": [
    {
     "data": {
      "text/html": [
       "<div>\n",
       "<style scoped>\n",
       "    .dataframe tbody tr th:only-of-type {\n",
       "        vertical-align: middle;\n",
       "    }\n",
       "\n",
       "    .dataframe tbody tr th {\n",
       "        vertical-align: top;\n",
       "    }\n",
       "\n",
       "    .dataframe thead th {\n",
       "        text-align: right;\n",
       "    }\n",
       "</style>\n",
       "<table border=\"1\" class=\"dataframe\">\n",
       "  <thead>\n",
       "    <tr style=\"text-align: right;\">\n",
       "      <th></th>\n",
       "      <th>Connected Month</th>\n",
       "      <th>Company</th>\n",
       "      <th>Connection Count</th>\n",
       "    </tr>\n",
       "  </thead>\n",
       "  <tbody>\n",
       "    <tr>\n",
       "      <th>0</th>\n",
       "      <td>2017-01</td>\n",
       "      <td>Cognizant</td>\n",
       "      <td>18</td>\n",
       "    </tr>\n",
       "    <tr>\n",
       "      <th>1</th>\n",
       "      <td>2017-01</td>\n",
       "      <td>Tata Consultancy Services</td>\n",
       "      <td>26</td>\n",
       "    </tr>\n",
       "    <tr>\n",
       "      <th>2</th>\n",
       "      <td>2017-02</td>\n",
       "      <td>Cognizant</td>\n",
       "      <td>21</td>\n",
       "    </tr>\n",
       "    <tr>\n",
       "      <th>3</th>\n",
       "      <td>2017-02</td>\n",
       "      <td>Tata Consultancy Services</td>\n",
       "      <td>10</td>\n",
       "    </tr>\n",
       "    <tr>\n",
       "      <th>4</th>\n",
       "      <td>2017-03</td>\n",
       "      <td>Cognizant</td>\n",
       "      <td>31</td>\n",
       "    </tr>\n",
       "  </tbody>\n",
       "</table>\n",
       "</div>"
      ],
      "text/plain": [
       "  Connected Month                    Company  Connection Count\n",
       "0         2017-01                  Cognizant                18\n",
       "1         2017-01  Tata Consultancy Services                26\n",
       "2         2017-02                  Cognizant                21\n",
       "3         2017-02  Tata Consultancy Services                10\n",
       "4         2017-03                  Cognizant                31"
      ]
     },
     "execution_count": 144,
     "metadata": {},
     "output_type": "execute_result"
    }
   ],
   "source": [
    "df = connections_orgs2.groupby(['Connected Month', 'Company'])['Connected Month']. \\\n",
    "    count(). \\\n",
    "    reset_index(name='Connection Count')\n",
    "df.head()"
   ]
  },
  {
   "cell_type": "code",
   "execution_count": 148,
   "metadata": {},
   "outputs": [
    {
     "data": {
      "image/png": "[encoded data removed]",
      "text/plain": [
       "<Figure size 432x288 with 1 Axes>"
      ]
     },
     "metadata": {
      "needs_background": "light"
     },
     "output_type": "display_data"
    }
   ],
   "source": [
    "import seaborn as sb\n",
    "\n",
    "ax = sb.lineplot(x='Connected Month',\n",
    "            y='Connection Count',\n",
    "            hue='Company',\n",
    "            data=df\n",
    "           )\n",
    "ax = ax.set_xticklabels(labels=df['Connected Month'].tolist(), rotation=85)"
   ]
  },
  {
   "cell_type": "markdown",
   "metadata": {},
   "source": [
    "#### Using Pandas\n"
   ]
  },
  {
   "cell_type": "code",
   "execution_count": 150,
   "metadata": {},
   "outputs": [
    {
     "data": {
      "text/html": [
       "<div>\n",
       "<style scoped>\n",
       "    .dataframe tbody tr th:only-of-type {\n",
       "        vertical-align: middle;\n",
       "    }\n",
       "\n",
       "    .dataframe tbody tr th {\n",
       "        vertical-align: top;\n",
       "    }\n",
       "\n",
       "    .dataframe thead th {\n",
       "        text-align: right;\n",
       "    }\n",
       "</style>\n",
       "<table border=\"1\" class=\"dataframe\">\n",
       "  <thead>\n",
       "    <tr style=\"text-align: right;\">\n",
       "      <th></th>\n",
       "      <th>Connected Month</th>\n",
       "      <th>Company</th>\n",
       "      <th>Connection Count</th>\n",
       "    </tr>\n",
       "  </thead>\n",
       "  <tbody>\n",
       "    <tr>\n",
       "      <th>0</th>\n",
       "      <td>2017-01</td>\n",
       "      <td>Cognizant</td>\n",
       "      <td>18</td>\n",
       "    </tr>\n",
       "    <tr>\n",
       "      <th>1</th>\n",
       "      <td>2017-01</td>\n",
       "      <td>Tata Consultancy Services</td>\n",
       "      <td>26</td>\n",
       "    </tr>\n",
       "    <tr>\n",
       "      <th>2</th>\n",
       "      <td>2017-02</td>\n",
       "      <td>Cognizant</td>\n",
       "      <td>21</td>\n",
       "    </tr>\n",
       "    <tr>\n",
       "      <th>3</th>\n",
       "      <td>2017-02</td>\n",
       "      <td>Tata Consultancy Services</td>\n",
       "      <td>10</td>\n",
       "    </tr>\n",
       "    <tr>\n",
       "      <th>4</th>\n",
       "      <td>2017-03</td>\n",
       "      <td>Cognizant</td>\n",
       "      <td>31</td>\n",
       "    </tr>\n",
       "  </tbody>\n",
       "</table>\n",
       "</div>"
      ],
      "text/plain": [
       "  Connected Month                    Company  Connection Count\n",
       "0         2017-01                  Cognizant                18\n",
       "1         2017-01  Tata Consultancy Services                26\n",
       "2         2017-02                  Cognizant                21\n",
       "3         2017-02  Tata Consultancy Services                10\n",
       "4         2017-03                  Cognizant                31"
      ]
     },
     "execution_count": 150,
     "metadata": {},
     "output_type": "execute_result"
    }
   ],
   "source": [
    "df.head()"
   ]
  },
  {
   "cell_type": "code",
   "execution_count": 151,
   "metadata": {},
   "outputs": [
    {
     "data": {
      "text/html": [
       "<div>\n",
       "<style scoped>\n",
       "    .dataframe tbody tr th:only-of-type {\n",
       "        vertical-align: middle;\n",
       "    }\n",
       "\n",
       "    .dataframe tbody tr th {\n",
       "        vertical-align: top;\n",
       "    }\n",
       "\n",
       "    .dataframe thead th {\n",
       "        text-align: right;\n",
       "    }\n",
       "</style>\n",
       "<table border=\"1\" class=\"dataframe\">\n",
       "  <thead>\n",
       "    <tr style=\"text-align: right;\">\n",
       "      <th></th>\n",
       "      <th>Connected Month</th>\n",
       "      <th>Cognizant</th>\n",
       "      <th>Tata Consultancy Services</th>\n",
       "    </tr>\n",
       "  </thead>\n",
       "  <tbody>\n",
       "    <tr>\n",
       "      <th>0</th>\n",
       "      <td>2017-01</td>\n",
       "      <td>18</td>\n",
       "      <td>26</td>\n",
       "    </tr>\n",
       "    <tr>\n",
       "      <th>1</th>\n",
       "      <td>2017-02</td>\n",
       "      <td>21</td>\n",
       "      <td>10</td>\n",
       "    </tr>\n",
       "    <tr>\n",
       "      <th>2</th>\n",
       "      <td>2017-03</td>\n",
       "      <td>31</td>\n",
       "      <td>44</td>\n",
       "    </tr>\n",
       "    <tr>\n",
       "      <th>3</th>\n",
       "      <td>2017-04</td>\n",
       "      <td>36</td>\n",
       "      <td>38</td>\n",
       "    </tr>\n",
       "    <tr>\n",
       "      <th>4</th>\n",
       "      <td>2017-05</td>\n",
       "      <td>14</td>\n",
       "      <td>14</td>\n",
       "    </tr>\n",
       "  </tbody>\n",
       "</table>\n",
       "</div>"
      ],
      "text/plain": [
       "  Connected Month  Cognizant  Tata Consultancy Services\n",
       "0         2017-01         18                         26\n",
       "1         2017-02         21                         10\n",
       "2         2017-03         31                         44\n",
       "3         2017-04         36                         38\n",
       "4         2017-05         14                         14"
      ]
     },
     "execution_count": 151,
     "metadata": {},
     "output_type": "execute_result"
    }
   ],
   "source": [
    "df = connections_orgs2.groupby(['Connected Month', 'Company'])['Connected Month']. \\\n",
    "    count(). \\\n",
    "    reset_index(name='Connection Count')\n",
    "df_pivot = pd. \\\n",
    "    pivot_table(df, \n",
    "                index=['Connected Month'], \n",
    "                columns=['Company']\n",
    "               ). \\\n",
    "    reset_index()\n",
    "df_pivot.columns = df_pivot.columns.droplevel()\n",
    "df_pivot = df_pivot.rename(columns={'': 'Connected Month'})\n",
    "df_pivot.columns.name = None\n",
    "df_pivot.head()"
   ]
  },
  {
   "cell_type": "code",
   "execution_count": 154,
   "metadata": {},
   "outputs": [
    {
     "data": {
      "image/png": "[encoded data removed]",
      "text/plain": [
       "<Figure size 432x288 with 1 Axes>"
      ]
     },
     "metadata": {
      "needs_background": "light"
     },
     "output_type": "display_data"
    }
   ],
   "source": [
    "ax = df_pivot.plot(x='Connected Month')"
   ]
  },
  {
   "cell_type": "markdown",
   "metadata": {},
   "source": [
    "## Plot using loops\n",
    "Let us understand how to plot using loops.\n",
    "* We will get top 5 organizations by connection count.\n",
    "* We will get count by month for the years of 2017 and 2018 for top 5 organizations.\n",
    "* Once we get counts by month for top 5 organizations, we should be able to plot for all organizations using loop."
   ]
  },
  {
   "cell_type": "code",
   "execution_count": 157,
   "metadata": {},
   "outputs": [],
   "source": [
    "base_dir = '/Users/itversity/Research/data/linkedin'\n",
    "source_file = '{base_dir}/{file_name}'"
   ]
  },
  {
   "cell_type": "code",
   "execution_count": 158,
   "metadata": {},
   "outputs": [
    {
     "data": {
      "text/html": [
       "<div>\n",
       "<style scoped>\n",
       "    .dataframe tbody tr th:only-of-type {\n",
       "        vertical-align: middle;\n",
       "    }\n",
       "\n",
       "    .dataframe tbody tr th {\n",
       "        vertical-align: top;\n",
       "    }\n",
       "\n",
       "    .dataframe thead th {\n",
       "        text-align: right;\n",
       "    }\n",
       "</style>\n",
       "<table border=\"1\" class=\"dataframe\">\n",
       "  <thead>\n",
       "    <tr style=\"text-align: right;\">\n",
       "      <th></th>\n",
       "      <th>First Name</th>\n",
       "      <th>Last Name</th>\n",
       "      <th>Email Address</th>\n",
       "      <th>Company</th>\n",
       "      <th>Position</th>\n",
       "      <th>Connected On</th>\n",
       "    </tr>\n",
       "  </thead>\n",
       "  <tbody>\n",
       "    <tr>\n",
       "      <th>0</th>\n",
       "      <td>3078a0ab1e55097b</td>\n",
       "      <td>7efe64fafaa00172</td>\n",
       "      <td>nan</td>\n",
       "      <td>Tata Consultancy Services</td>\n",
       "      <td>Big Data Architect</td>\n",
       "      <td>14 Aug 2019</td>\n",
       "    </tr>\n",
       "    <tr>\n",
       "      <th>1</th>\n",
       "      <td>e723cfa0adbed03a</td>\n",
       "      <td>5aa5c3a17b9cedfe</td>\n",
       "      <td>nan</td>\n",
       "      <td>Wavelabs Technologies Private Limited</td>\n",
       "      <td>Manager - HR &amp; Recruitment</td>\n",
       "      <td>14 Aug 2019</td>\n",
       "    </tr>\n",
       "    <tr>\n",
       "      <th>2</th>\n",
       "      <td>cf70f1da79b36bd3</td>\n",
       "      <td>e25bc1fa270e9023</td>\n",
       "      <td>nan</td>\n",
       "      <td>Databricks</td>\n",
       "      <td>Solutions Architect</td>\n",
       "      <td>14 Aug 2019</td>\n",
       "    </tr>\n",
       "    <tr>\n",
       "      <th>3</th>\n",
       "      <td>0a0fe34746b8b234</td>\n",
       "      <td>51ce6d0eecc44d0f</td>\n",
       "      <td>nan</td>\n",
       "      <td>Swimelar CPA, PC</td>\n",
       "      <td>President</td>\n",
       "      <td>14 Aug 2019</td>\n",
       "    </tr>\n",
       "    <tr>\n",
       "      <th>4</th>\n",
       "      <td>b52d63a6f034471c</td>\n",
       "      <td>bea75ca0d82da8df</td>\n",
       "      <td>nan</td>\n",
       "      <td>Tata Consultancy Services</td>\n",
       "      <td>Consultant</td>\n",
       "      <td>14 Aug 2019</td>\n",
       "    </tr>\n",
       "  </tbody>\n",
       "</table>\n",
       "</div>"
      ],
      "text/plain": [
       "         First Name         Last Name Email Address  \\\n",
       "0  3078a0ab1e55097b  7efe64fafaa00172           nan   \n",
       "1  e723cfa0adbed03a  5aa5c3a17b9cedfe           nan   \n",
       "2  cf70f1da79b36bd3  e25bc1fa270e9023           nan   \n",
       "3  0a0fe34746b8b234  51ce6d0eecc44d0f           nan   \n",
       "4  b52d63a6f034471c  bea75ca0d82da8df           nan   \n",
       "\n",
       "                                 Company                    Position  \\\n",
       "0              Tata Consultancy Services          Big Data Architect   \n",
       "1  Wavelabs Technologies Private Limited  Manager - HR & Recruitment   \n",
       "2                             Databricks         Solutions Architect   \n",
       "3                       Swimelar CPA, PC                   President   \n",
       "4              Tata Consultancy Services                  Consultant   \n",
       "\n",
       "  Connected On  \n",
       "0  14 Aug 2019  \n",
       "1  14 Aug 2019  \n",
       "2  14 Aug 2019  \n",
       "3  14 Aug 2019  \n",
       "4  14 Aug 2019  "
      ]
     },
     "execution_count": 158,
     "metadata": {},
     "output_type": "execute_result"
    }
   ],
   "source": [
    "import pandas as pd\n",
    "\n",
    "connections_src = source_file.format(\n",
    "    base_dir = base_dir,\n",
    "    file_name = 'Connections.csv'\n",
    ")\n",
    "\n",
    "connections = pd.read_csv(connections_src).astype(str)\n",
    "connections.head()"
   ]
  },
  {
   "cell_type": "markdown",
   "metadata": {},
   "source": [
    "* Filtering for 2017 and 2018 data."
   ]
  },
  {
   "cell_type": "code",
   "execution_count": 159,
   "metadata": {},
   "outputs": [
    {
     "data": {
      "text/html": [
       "<div>\n",
       "<style scoped>\n",
       "    .dataframe tbody tr th:only-of-type {\n",
       "        vertical-align: middle;\n",
       "    }\n",
       "\n",
       "    .dataframe tbody tr th {\n",
       "        vertical-align: top;\n",
       "    }\n",
       "\n",
       "    .dataframe thead th {\n",
       "        text-align: right;\n",
       "    }\n",
       "</style>\n",
       "<table border=\"1\" class=\"dataframe\">\n",
       "  <thead>\n",
       "    <tr style=\"text-align: right;\">\n",
       "      <th></th>\n",
       "      <th>First Name</th>\n",
       "      <th>Last Name</th>\n",
       "      <th>Email Address</th>\n",
       "      <th>Company</th>\n",
       "      <th>Position</th>\n",
       "      <th>Connected On</th>\n",
       "    </tr>\n",
       "  </thead>\n",
       "  <tbody>\n",
       "    <tr>\n",
       "      <th>2432</th>\n",
       "      <td>dcdbd5ee9cc84b07</td>\n",
       "      <td>c836f47cefaed87a</td>\n",
       "      <td>nan</td>\n",
       "      <td>Virtusa</td>\n",
       "      <td>Senior Consultant</td>\n",
       "      <td>31 Dec 2018</td>\n",
       "    </tr>\n",
       "    <tr>\n",
       "      <th>2433</th>\n",
       "      <td>1b48dd706a05529d</td>\n",
       "      <td>9f020a84886ab17e</td>\n",
       "      <td>nan</td>\n",
       "      <td>Bayer</td>\n",
       "      <td>Data Analytics Lead</td>\n",
       "      <td>31 Dec 2018</td>\n",
       "    </tr>\n",
       "    <tr>\n",
       "      <th>2434</th>\n",
       "      <td>81bd075bec50b585</td>\n",
       "      <td>13750ce1b05934ad</td>\n",
       "      <td>nan</td>\n",
       "      <td>Confidential</td>\n",
       "      <td>Program/Engagement Director -  Innovation &amp; En...</td>\n",
       "      <td>31 Dec 2018</td>\n",
       "    </tr>\n",
       "    <tr>\n",
       "      <th>2435</th>\n",
       "      <td>15be3b238e4156c2</td>\n",
       "      <td>d12a54842ad66bc6</td>\n",
       "      <td>nan</td>\n",
       "      <td>Concirrus</td>\n",
       "      <td>Team Lead (Quest Marine Hull) and Sr. Data Ana...</td>\n",
       "      <td>31 Dec 2018</td>\n",
       "    </tr>\n",
       "    <tr>\n",
       "      <th>2436</th>\n",
       "      <td>b8c9f0200a5342eb</td>\n",
       "      <td>20c7831ec03d8c85</td>\n",
       "      <td>nan</td>\n",
       "      <td>Oalva, Inc.</td>\n",
       "      <td>Hadoop Administrator</td>\n",
       "      <td>31 Dec 2018</td>\n",
       "    </tr>\n",
       "  </tbody>\n",
       "</table>\n",
       "</div>"
      ],
      "text/plain": [
       "            First Name         Last Name Email Address       Company  \\\n",
       "2432  dcdbd5ee9cc84b07  c836f47cefaed87a           nan       Virtusa   \n",
       "2433  1b48dd706a05529d  9f020a84886ab17e           nan         Bayer   \n",
       "2434  81bd075bec50b585  13750ce1b05934ad           nan  Confidential   \n",
       "2435  15be3b238e4156c2  d12a54842ad66bc6           nan     Concirrus   \n",
       "2436  b8c9f0200a5342eb  20c7831ec03d8c85           nan   Oalva, Inc.   \n",
       "\n",
       "                                               Position Connected On  \n",
       "2432                                  Senior Consultant  31 Dec 2018  \n",
       "2433                                Data Analytics Lead  31 Dec 2018  \n",
       "2434  Program/Engagement Director -  Innovation & En...  31 Dec 2018  \n",
       "2435  Team Lead (Quest Marine Hull) and Sr. Data Ana...  31 Dec 2018  \n",
       "2436                               Hadoop Administrator  31 Dec 2018  "
      ]
     },
     "execution_count": 159,
     "metadata": {},
     "output_type": "execute_result"
    }
   ],
   "source": [
    "connections = connections. \\\n",
    "    query('`Connected On`.str.contains(\"2017\") or `Connected On`.str.contains(\"2018\")', engine='python')\n",
    "connections.head()"
   ]
  },
  {
   "cell_type": "markdown",
   "metadata": {},
   "source": [
    "* Getting count by organization"
   ]
  },
  {
   "cell_type": "code",
   "execution_count": 160,
   "metadata": {},
   "outputs": [
    {
     "data": {
      "text/plain": [
       "Company\n",
       "     www.ibridz.com    1\n",
       " -                     2\n",
       " - BSM Group -         1\n",
       " --------              1\n",
       " -----------           1\n",
       "Name: Company, dtype: int64"
      ]
     },
     "execution_count": 160,
     "metadata": {},
     "output_type": "execute_result"
    }
   ],
   "source": [
    "connection_count_by_company = connections.groupby('Company')['Company'].count()\n",
    "connection_count_by_company.head()"
   ]
  },
  {
   "cell_type": "markdown",
   "metadata": {},
   "source": [
    "* Get top 5 organization by connection count"
   ]
  },
  {
   "cell_type": "code",
   "execution_count": 161,
   "metadata": {},
   "outputs": [
    {
     "data": {
      "text/plain": [
       "Company\n",
       "Tata Consultancy Services    351\n",
       "Cognizant                    299\n",
       "Infosys                      184\n",
       "Accenture                    166\n",
       "Capgemini                    149\n",
       "Name: Company, dtype: int64"
      ]
     },
     "execution_count": 161,
     "metadata": {},
     "output_type": "execute_result"
    }
   ],
   "source": [
    "organizations_top5 = connection_count_by_company[connection_count_by_company.index != 'nan']. \\\n",
    "    sort_values(ascending=False). \\\n",
    "    head(5)\n",
    "organizations_top5"
   ]
  },
  {
   "cell_type": "markdown",
   "metadata": {},
   "source": [
    "* Get the connections for top 5 organizations"
   ]
  },
  {
   "cell_type": "code",
   "execution_count": 162,
   "metadata": {},
   "outputs": [
    {
     "data": {
      "text/html": [
       "<div>\n",
       "<style scoped>\n",
       "    .dataframe tbody tr th:only-of-type {\n",
       "        vertical-align: middle;\n",
       "    }\n",
       "\n",
       "    .dataframe tbody tr th {\n",
       "        vertical-align: top;\n",
       "    }\n",
       "\n",
       "    .dataframe thead th {\n",
       "        text-align: right;\n",
       "    }\n",
       "</style>\n",
       "<table border=\"1\" class=\"dataframe\">\n",
       "  <thead>\n",
       "    <tr style=\"text-align: right;\">\n",
       "      <th></th>\n",
       "      <th>First Name</th>\n",
       "      <th>Last Name</th>\n",
       "      <th>Email Address</th>\n",
       "      <th>Company</th>\n",
       "      <th>Position</th>\n",
       "      <th>Connected On</th>\n",
       "    </tr>\n",
       "  </thead>\n",
       "  <tbody>\n",
       "    <tr>\n",
       "      <th>2455</th>\n",
       "      <td>724164ee0f66c5a7</td>\n",
       "      <td>e325237ee908249e</td>\n",
       "      <td>nan</td>\n",
       "      <td>Accenture</td>\n",
       "      <td>Technical Team Lead</td>\n",
       "      <td>30 Dec 2018</td>\n",
       "    </tr>\n",
       "    <tr>\n",
       "      <th>2486</th>\n",
       "      <td>928e1273ab7b5bd7</td>\n",
       "      <td>1eb3d2c06687558d</td>\n",
       "      <td>nan</td>\n",
       "      <td>Tata Consultancy Services</td>\n",
       "      <td>Big Data Developer</td>\n",
       "      <td>28 Dec 2018</td>\n",
       "    </tr>\n",
       "    <tr>\n",
       "      <th>2505</th>\n",
       "      <td>e065b88d88554890</td>\n",
       "      <td>afa3fd5761b3249d</td>\n",
       "      <td>nan</td>\n",
       "      <td>Tata Consultancy Services</td>\n",
       "      <td>Big Data Developer</td>\n",
       "      <td>26 Dec 2018</td>\n",
       "    </tr>\n",
       "    <tr>\n",
       "      <th>2526</th>\n",
       "      <td>984371949198f4be</td>\n",
       "      <td>4df31cae772b6207</td>\n",
       "      <td>nan</td>\n",
       "      <td>Accenture</td>\n",
       "      <td>Associate Manager</td>\n",
       "      <td>25 Dec 2018</td>\n",
       "    </tr>\n",
       "    <tr>\n",
       "      <th>2528</th>\n",
       "      <td>1105430bf40f2e0d</td>\n",
       "      <td>b8716546fcad37d7</td>\n",
       "      <td>nan</td>\n",
       "      <td>Tata Consultancy Services</td>\n",
       "      <td>Assistant System Engineer</td>\n",
       "      <td>25 Dec 2018</td>\n",
       "    </tr>\n",
       "  </tbody>\n",
       "</table>\n",
       "</div>"
      ],
      "text/plain": [
       "            First Name         Last Name Email Address  \\\n",
       "2455  724164ee0f66c5a7  e325237ee908249e           nan   \n",
       "2486  928e1273ab7b5bd7  1eb3d2c06687558d           nan   \n",
       "2505  e065b88d88554890  afa3fd5761b3249d           nan   \n",
       "2526  984371949198f4be  4df31cae772b6207           nan   \n",
       "2528  1105430bf40f2e0d  b8716546fcad37d7           nan   \n",
       "\n",
       "                        Company                   Position Connected On  \n",
       "2455                  Accenture        Technical Team Lead  30 Dec 2018  \n",
       "2486  Tata Consultancy Services         Big Data Developer  28 Dec 2018  \n",
       "2505  Tata Consultancy Services         Big Data Developer  26 Dec 2018  \n",
       "2526                  Accenture          Associate Manager  25 Dec 2018  \n",
       "2528  Tata Consultancy Services  Assistant System Engineer  25 Dec 2018  "
      ]
     },
     "execution_count": 162,
     "metadata": {},
     "output_type": "execute_result"
    }
   ],
   "source": [
    "connections_top5 = connections[\n",
    "    connections['Company'].isin(organizations_top5.index.tolist())\n",
    "]\n",
    "connections_top5.head()"
   ]
  },
  {
   "cell_type": "markdown",
   "metadata": {},
   "source": [
    "* Get count by month for each of the top 5 organizations (for the years of 2017 as well as 2018).\n",
    "* It will result in multiindex (Company and Connected Month)."
   ]
  },
  {
   "cell_type": "code",
   "execution_count": 163,
   "metadata": {},
   "outputs": [
    {
     "name": "stderr",
     "output_type": "stream",
     "text": [
      "/usr/local/lib/python3.7/site-packages/ipykernel_launcher.py:3: SettingWithCopyWarning: \n",
      "A value is trying to be set on a copy of a slice from a DataFrame.\n",
      "Try using .loc[row_indexer,col_indexer] = value instead\n",
      "\n",
      "See the caveats in the documentation: http://pandas.pydata.org/pandas-docs/stable/user_guide/indexing.html#returning-a-view-versus-a-copy\n",
      "  This is separate from the ipykernel package so we can avoid doing imports until\n"
     ]
    },
    {
     "data": {
      "text/html": [
       "<div>\n",
       "<style scoped>\n",
       "    .dataframe tbody tr th:only-of-type {\n",
       "        vertical-align: middle;\n",
       "    }\n",
       "\n",
       "    .dataframe tbody tr th {\n",
       "        vertical-align: top;\n",
       "    }\n",
       "\n",
       "    .dataframe thead th {\n",
       "        text-align: right;\n",
       "    }\n",
       "</style>\n",
       "<table border=\"1\" class=\"dataframe\">\n",
       "  <thead>\n",
       "    <tr style=\"text-align: right;\">\n",
       "      <th></th>\n",
       "      <th>First Name</th>\n",
       "      <th>Last Name</th>\n",
       "      <th>Email Address</th>\n",
       "      <th>Company</th>\n",
       "      <th>Position</th>\n",
       "      <th>Connected On</th>\n",
       "      <th>Connected Month</th>\n",
       "    </tr>\n",
       "  </thead>\n",
       "  <tbody>\n",
       "    <tr>\n",
       "      <th>2455</th>\n",
       "      <td>724164ee0f66c5a7</td>\n",
       "      <td>e325237ee908249e</td>\n",
       "      <td>nan</td>\n",
       "      <td>Accenture</td>\n",
       "      <td>Technical Team Lead</td>\n",
       "      <td>30 Dec 2018</td>\n",
       "      <td>2018-12</td>\n",
       "    </tr>\n",
       "    <tr>\n",
       "      <th>2486</th>\n",
       "      <td>928e1273ab7b5bd7</td>\n",
       "      <td>1eb3d2c06687558d</td>\n",
       "      <td>nan</td>\n",
       "      <td>Tata Consultancy Services</td>\n",
       "      <td>Big Data Developer</td>\n",
       "      <td>28 Dec 2018</td>\n",
       "      <td>2018-12</td>\n",
       "    </tr>\n",
       "    <tr>\n",
       "      <th>2505</th>\n",
       "      <td>e065b88d88554890</td>\n",
       "      <td>afa3fd5761b3249d</td>\n",
       "      <td>nan</td>\n",
       "      <td>Tata Consultancy Services</td>\n",
       "      <td>Big Data Developer</td>\n",
       "      <td>26 Dec 2018</td>\n",
       "      <td>2018-12</td>\n",
       "    </tr>\n",
       "    <tr>\n",
       "      <th>2526</th>\n",
       "      <td>984371949198f4be</td>\n",
       "      <td>4df31cae772b6207</td>\n",
       "      <td>nan</td>\n",
       "      <td>Accenture</td>\n",
       "      <td>Associate Manager</td>\n",
       "      <td>25 Dec 2018</td>\n",
       "      <td>2018-12</td>\n",
       "    </tr>\n",
       "    <tr>\n",
       "      <th>2528</th>\n",
       "      <td>1105430bf40f2e0d</td>\n",
       "      <td>b8716546fcad37d7</td>\n",
       "      <td>nan</td>\n",
       "      <td>Tata Consultancy Services</td>\n",
       "      <td>Assistant System Engineer</td>\n",
       "      <td>25 Dec 2018</td>\n",
       "      <td>2018-12</td>\n",
       "    </tr>\n",
       "  </tbody>\n",
       "</table>\n",
       "</div>"
      ],
      "text/plain": [
       "            First Name         Last Name Email Address  \\\n",
       "2455  724164ee0f66c5a7  e325237ee908249e           nan   \n",
       "2486  928e1273ab7b5bd7  1eb3d2c06687558d           nan   \n",
       "2505  e065b88d88554890  afa3fd5761b3249d           nan   \n",
       "2526  984371949198f4be  4df31cae772b6207           nan   \n",
       "2528  1105430bf40f2e0d  b8716546fcad37d7           nan   \n",
       "\n",
       "                        Company                   Position Connected On  \\\n",
       "2455                  Accenture        Technical Team Lead  30 Dec 2018   \n",
       "2486  Tata Consultancy Services         Big Data Developer  28 Dec 2018   \n",
       "2505  Tata Consultancy Services         Big Data Developer  26 Dec 2018   \n",
       "2526                  Accenture          Associate Manager  25 Dec 2018   \n",
       "2528  Tata Consultancy Services  Assistant System Engineer  25 Dec 2018   \n",
       "\n",
       "     Connected Month  \n",
       "2455         2018-12  \n",
       "2486         2018-12  \n",
       "2505         2018-12  \n",
       "2526         2018-12  \n",
       "2528         2018-12  "
      ]
     },
     "execution_count": 163,
     "metadata": {},
     "output_type": "execute_result"
    }
   ],
   "source": [
    "import datetime\n",
    "connections_top5['Connected Month'] = connections_top5['Connected On']. \\\n",
    "    apply(lambda d: datetime.datetime. \\\n",
    "          strptime(d, '%d %b %Y'). \\\n",
    "          strftime('%Y-%m')\n",
    "         )\n",
    "connections_top5.head()"
   ]
  },
  {
   "cell_type": "code",
   "execution_count": 165,
   "metadata": {},
   "outputs": [
    {
     "data": {
      "text/plain": [
       "Company                    Connected Month\n",
       "Accenture                  2017-01            14\n",
       "                           2017-02             9\n",
       "                           2017-03            19\n",
       "                           2017-04            18\n",
       "                           2017-05            10\n",
       "                                              ..\n",
       "Tata Consultancy Services  2018-08            10\n",
       "                           2018-09            15\n",
       "                           2018-10             5\n",
       "                           2018-11             8\n",
       "                           2018-12            10\n",
       "Name: Connected Month, Length: 119, dtype: int64"
      ]
     },
     "execution_count": 165,
     "metadata": {},
     "output_type": "execute_result"
    }
   ],
   "source": [
    "connections_top5_count_by_month = connections_top5. \\\n",
    "    groupby([\"Company\", \"Connected Month\"])[\"Connected Month\"]. \\\n",
    "    count()\n",
    "connections_top5_count_by_month"
   ]
  },
  {
   "cell_type": "markdown",
   "metadata": {},
   "source": [
    "* We can use `index.get_level_values` to get values from multiindex columns.\n",
    "* Here is the example to filter for **Accenture** using first column in multiindex."
   ]
  },
  {
   "cell_type": "code",
   "execution_count": 167,
   "metadata": {},
   "outputs": [
    {
     "data": {
      "text/plain": [
       "Company    Connected Month\n",
       "Accenture  2017-01            14\n",
       "           2017-02             9\n",
       "           2017-03            19\n",
       "           2017-04            18\n",
       "           2017-05            10\n",
       "           2017-06             8\n",
       "           2017-07             9\n",
       "           2017-08             7\n",
       "           2017-09             6\n",
       "           2017-10             9\n",
       "           2017-11             7\n",
       "           2017-12             2\n",
       "           2018-01             7\n",
       "           2018-02             3\n",
       "           2018-03             5\n",
       "           2018-04             4\n",
       "           2018-05             2\n",
       "           2018-06             2\n",
       "           2018-07             2\n",
       "           2018-08             8\n",
       "           2018-09             1\n",
       "           2018-10             4\n",
       "           2018-11             1\n",
       "           2018-12             9\n",
       "Name: Connected Month, dtype: int64"
      ]
     },
     "execution_count": 167,
     "metadata": {},
     "output_type": "execute_result"
    }
   ],
   "source": [
    "connections_top5_count_by_month[\n",
    "    connections_top5_count_by_month.index.get_level_values(0) == 'Accenture'\n",
    "]"
   ]
  },
  {
   "cell_type": "markdown",
   "metadata": {},
   "source": [
    "* We can use `organizations_top5` to get the organization names so that we can plot for each of the five organizations."
   ]
  },
  {
   "cell_type": "code",
   "execution_count": 169,
   "metadata": {},
   "outputs": [
    {
     "name": "stdout",
     "output_type": "stream",
     "text": [
      "Tata Consultancy Services\n",
      "Cognizant\n",
      "Infosys\n",
      "Accenture\n",
      "Capgemini\n"
     ]
    }
   ],
   "source": [
    "for org in organizations_top5.index.to_list():\n",
    "    print(org)"
   ]
  },
  {
   "cell_type": "markdown",
   "metadata": {},
   "source": [
    "* Example for plotting using loops."
   ]
  },
  {
   "cell_type": "code",
   "execution_count": 170,
   "metadata": {},
   "outputs": [
    {
     "data": {
      "image/png": "[encoded data removed]",
      "text/plain": [
       "<Figure size 432x288 with 1 Axes>"
      ]
     },
     "metadata": {
      "needs_background": "light"
     },
     "output_type": "display_data"
    }
   ],
   "source": [
    "import matplotlib.pyplot as plt\n",
    "x=[[1,2,3,4],[1,2,3,4],[1,2,3,4],[1,2,3,4]]\n",
    "y=[[1,2,3,4],[2,4,6,8],[3,6,9,12],[2,6,8,14]]\n",
    "plt.figure()\n",
    "for i in range(len(x)):\n",
    "    plt.plot(x[i],y[i])\n",
    "    # Show/save figure as desired.\n",
    "plt.show()"
   ]
  },
  {
   "cell_type": "markdown",
   "metadata": {},
   "source": [
    "* Plotting for top 5 organizations using monthly counts for 2017 and 2018."
   ]
  },
  {
   "cell_type": "code",
   "execution_count": 172,
   "metadata": {},
   "outputs": [
    {
     "data": {
      "text/plain": [
       "Company\n",
       "Tata Consultancy Services    351\n",
       "Cognizant                    299\n",
       "Infosys                      184\n",
       "Accenture                    166\n",
       "Capgemini                    149\n",
       "Name: Company, dtype: int64"
      ]
     },
     "execution_count": 172,
     "metadata": {},
     "output_type": "execute_result"
    }
   ],
   "source": [
    "organizations_top5"
   ]
  },
  {
   "cell_type": "code",
   "execution_count": 173,
   "metadata": {},
   "outputs": [
    {
     "data": {
      "text/plain": [
       "Company                    Connected Month\n",
       "Accenture                  2017-01            14\n",
       "                           2017-02             9\n",
       "                           2017-03            19\n",
       "                           2017-04            18\n",
       "                           2017-05            10\n",
       "                                              ..\n",
       "Tata Consultancy Services  2018-08            10\n",
       "                           2018-09            15\n",
       "                           2018-10             5\n",
       "                           2018-11             8\n",
       "                           2018-12            10\n",
       "Name: Connected Month, Length: 119, dtype: int64"
      ]
     },
     "execution_count": 173,
     "metadata": {},
     "output_type": "execute_result"
    }
   ],
   "source": [
    "connections_top5_count_by_month"
   ]
  },
  {
   "cell_type": "code",
   "execution_count": 174,
   "metadata": {},
   "outputs": [
    {
     "data": {
      "image/png": "[encoded data removed]",
      "text/plain": [
       "<Figure size 432x288 with 1 Axes>"
      ]
     },
     "metadata": {
      "needs_background": "light"
     },
     "output_type": "display_data"
    }
   ],
   "source": [
    "from matplotlib import pyplot as plt\n",
    "\n",
    "for org in organizations_top5.index.to_list():\n",
    "    data = connections_top5_count_by_month[\n",
    "        connections_top5_count_by_month.index.get_level_values(0) == org\n",
    "    ]\n",
    "    x = data.index.get_level_values(1).tolist()\n",
    "    y = data.values.tolist()\n",
    "    plt.plot(x, y, label=org)\n",
    "    \n",
    "plt.xlabel(\"Connected Month\")\n",
    "plt.ylabel(\"Connection Count\")\n",
    "\n",
    "plt.legend()\n",
    "plt.xticks(rotation=75)\n",
    "plt.show()"
   ]
  },
  {
   "cell_type": "markdown",
   "metadata": {},
   "source": [
    "#### Using Seaborn"
   ]
  },
  {
   "cell_type": "code",
   "execution_count": 175,
   "metadata": {},
   "outputs": [],
   "source": [
    "base_dir = '/Users/itversity/Research/data/linkedin'\n",
    "source_file = '{base_dir}/{file_name}'\n",
    "\n",
    "import pandas as pd\n",
    "\n",
    "connections_src = source_file.format(\n",
    "    base_dir = base_dir,\n",
    "    file_name = 'Connections.csv'\n",
    ")\n",
    "\n",
    "connections = pd.read_csv(connections_src).astype(str)\n",
    "\n",
    "import datetime\n",
    "connections['Connected Month'] = connections['Connected On']. \\\n",
    "    apply(lambda d: datetime.datetime. \\\n",
    "          strptime(d, '%d %b %Y'). \\\n",
    "          strftime('%Y-%m')\n",
    "         )\n",
    "\n",
    "connection_count_by_company = connections. \\\n",
    "    query('''`Connected On`.str.contains(\"2017\")''', engine='python'). \\\n",
    "    groupby('Company')['Company']. \\\n",
    "    count()\n",
    "\n",
    "organizations_top5 = connection_count_by_company[connection_count_by_company.index != 'nan']. \\\n",
    "    sort_values(ascending=False). \\\n",
    "    head(5)\n",
    "\n",
    "connections_top5 = connections[\n",
    "    (connections['Company'].isin(organizations_top5.index.tolist())) &\n",
    "    (connections['Connected On'].str.contains('2017'))\n",
    "]\n",
    "\n",
    "connections_top5_count_by_month = connections_top5. \\\n",
    "    groupby([\"Company\", \"Connected Month\"])[\"Connected Month\"]. \\\n",
    "    count(). \\\n",
    "    reset_index(name='Connection Count')"
   ]
  },
  {
   "cell_type": "code",
   "execution_count": 180,
   "metadata": {},
   "outputs": [
    {
     "data": {
      "image/png": "[encoded data removed]",
      "text/plain": [
       "<Figure size 432x288 with 1 Axes>"
      ]
     },
     "metadata": {
      "needs_background": "light"
     },
     "output_type": "display_data"
    }
   ],
   "source": [
    "import seaborn as sb\n",
    "\n",
    "labels = connections_top5_count_by_month['Connected Month'].tolist()\n",
    "\n",
    "ax = sb.lineplot(x='Connected Month',\n",
    "                 y='Connection Count',\n",
    "                 hue='Company',\n",
    "                 data=connections_top5_count_by_month\n",
    "                )\n",
    "\n",
    "ax = ax.set_xticklabels(labels=labels, rotation=85)"
   ]
  },
  {
   "cell_type": "markdown",
   "metadata": {},
   "source": [
    "#### Using Pandas"
   ]
  },
  {
   "cell_type": "code",
   "execution_count": 181,
   "metadata": {},
   "outputs": [
    {
     "data": {
      "text/html": [
       "<div>\n",
       "<style scoped>\n",
       "    .dataframe tbody tr th:only-of-type {\n",
       "        vertical-align: middle;\n",
       "    }\n",
       "\n",
       "    .dataframe tbody tr th {\n",
       "        vertical-align: top;\n",
       "    }\n",
       "\n",
       "    .dataframe thead th {\n",
       "        text-align: right;\n",
       "    }\n",
       "</style>\n",
       "<table border=\"1\" class=\"dataframe\">\n",
       "  <thead>\n",
       "    <tr style=\"text-align: right;\">\n",
       "      <th></th>\n",
       "      <th>Connected Month</th>\n",
       "      <th>Accenture</th>\n",
       "      <th>Capgemini</th>\n",
       "      <th>Cognizant</th>\n",
       "      <th>Infosys</th>\n",
       "      <th>Tata Consultancy Services</th>\n",
       "    </tr>\n",
       "  </thead>\n",
       "  <tbody>\n",
       "    <tr>\n",
       "      <th>0</th>\n",
       "      <td>2017-01</td>\n",
       "      <td>14</td>\n",
       "      <td>15</td>\n",
       "      <td>18</td>\n",
       "      <td>7</td>\n",
       "      <td>26</td>\n",
       "    </tr>\n",
       "    <tr>\n",
       "      <th>1</th>\n",
       "      <td>2017-02</td>\n",
       "      <td>9</td>\n",
       "      <td>7</td>\n",
       "      <td>21</td>\n",
       "      <td>9</td>\n",
       "      <td>10</td>\n",
       "    </tr>\n",
       "    <tr>\n",
       "      <th>2</th>\n",
       "      <td>2017-03</td>\n",
       "      <td>19</td>\n",
       "      <td>14</td>\n",
       "      <td>31</td>\n",
       "      <td>21</td>\n",
       "      <td>44</td>\n",
       "    </tr>\n",
       "    <tr>\n",
       "      <th>3</th>\n",
       "      <td>2017-04</td>\n",
       "      <td>18</td>\n",
       "      <td>15</td>\n",
       "      <td>36</td>\n",
       "      <td>28</td>\n",
       "      <td>38</td>\n",
       "    </tr>\n",
       "    <tr>\n",
       "      <th>4</th>\n",
       "      <td>2017-05</td>\n",
       "      <td>10</td>\n",
       "      <td>9</td>\n",
       "      <td>14</td>\n",
       "      <td>11</td>\n",
       "      <td>14</td>\n",
       "    </tr>\n",
       "  </tbody>\n",
       "</table>\n",
       "</div>"
      ],
      "text/plain": [
       "  Connected Month  Accenture  Capgemini  Cognizant  Infosys  \\\n",
       "0         2017-01         14         15         18        7   \n",
       "1         2017-02          9          7         21        9   \n",
       "2         2017-03         19         14         31       21   \n",
       "3         2017-04         18         15         36       28   \n",
       "4         2017-05         10          9         14       11   \n",
       "\n",
       "   Tata Consultancy Services  \n",
       "0                         26  \n",
       "1                         10  \n",
       "2                         44  \n",
       "3                         38  \n",
       "4                         14  "
      ]
     },
     "execution_count": 181,
     "metadata": {},
     "output_type": "execute_result"
    }
   ],
   "source": [
    "base_dir = '/Users/itversity/Research/data/linkedin'\n",
    "source_file = '{base_dir}/{file_name}'\n",
    "\n",
    "import pandas as pd\n",
    "\n",
    "connections_src = source_file.format(\n",
    "    base_dir = base_dir,\n",
    "    file_name = 'Connections.csv'\n",
    ")\n",
    "\n",
    "connections = pd.read_csv(connections_src).astype(str)\n",
    "\n",
    "import datetime\n",
    "connections['Connected Month'] = connections['Connected On']. \\\n",
    "    apply(lambda d: datetime.datetime. \\\n",
    "          strptime(d, '%d %b %Y'). \\\n",
    "          strftime('%Y-%m')\n",
    "         )\n",
    "\n",
    "connection_count_by_company = connections. \\\n",
    "    query('''`Connected On`.str.contains(\"2017\")''', engine='python'). \\\n",
    "    groupby('Company')['Company']. \\\n",
    "    count()\n",
    "\n",
    "organizations_top5 = connection_count_by_company[connection_count_by_company.index != 'nan']. \\\n",
    "    sort_values(ascending=False). \\\n",
    "    head(5)\n",
    "\n",
    "connections_top5 = connections[\n",
    "    (connections['Company'].isin(organizations_top5.index.tolist())) &\n",
    "    (connections['Connected On'].str.contains('2017'))\n",
    "]\n",
    "\n",
    "connections_top5_count_by_month = connections_top5. \\\n",
    "    groupby([\"Company\", \"Connected Month\"])[\"Connected Month\"]. \\\n",
    "    count(). \\\n",
    "    reset_index(name='Connection Count')\n",
    "\n",
    "df_pivot = pd. \\\n",
    "    pivot_table(connections_top5_count_by_month, \n",
    "                index=['Connected Month'], \n",
    "                columns=['Company']\n",
    "               ). \\\n",
    "    reset_index()\n",
    "df_pivot.columns = df_pivot.columns.droplevel()\n",
    "df_pivot = df_pivot.rename(columns={'': 'Connected Month'})\n",
    "df_pivot.columns.name = None\n",
    "df_pivot.head()"
   ]
  },
  {
   "cell_type": "code",
   "execution_count": 183,
   "metadata": {},
   "outputs": [
    {
     "data": {
      "image/png": "[encoded data removed]",
      "text/plain": [
       "<Figure size 432x288 with 1 Axes>"
      ]
     },
     "metadata": {
      "needs_background": "light"
     },
     "output_type": "display_data"
    }
   ],
   "source": [
    "ax = df_pivot.plot(x='Connected Month')"
   ]
  },
  {
   "cell_type": "markdown",
   "metadata": {},
   "source": [
    "## Bar Graphs\n",
    "\n",
    "Let us understand how to plot bar graph."
   ]
  },
  {
   "cell_type": "markdown",
   "metadata": {},
   "source": [
    "## Plotting Histograms\n",
    "\n",
    "Let us plot histograms when we have too many independent variables.\n",
    "* We will create bins or buckets for plotting histograms using fewer buckets.\n",
    "* We will try to plot 2 histograms.\n",
    "  * Organization count with 100 t0 600 conections.\n",
    "  * Organization count with 10 to 50 connections."
   ]
  },
  {
   "cell_type": "markdown",
   "metadata": {},
   "source": [
    "## Pie Chart\n",
    "\n",
    "Let us understand how to build pie chart to understand the distribution of number of connections by year."
   ]
  },
  {
   "cell_type": "markdown",
   "metadata": {},
   "source": [
    "Now let us render pie chart using LinkedIn data.\n",
    "* Get connection count by year\n",
    "* Render pie chart using year as label\n",
    "* As there are many years with very few connections, we will consider all the years under 1000 connections as Other\n",
    "* Render pie chart using year for all the years with more than 1000 connections and Other for rest of the years\n",
    "* We need to pre-compute connection count for Other years than those years which have greater than or equal to 1000."
   ]
  },
  {
   "cell_type": "markdown",
   "metadata": {},
   "source": [
    "## Using Stack Plots\n",
    "\n",
    "Let us understand how to render stack plot using matplot library.\n",
    "* Stack Plots are primarily used to compare and understand the spread.\n",
    "* We will see the spread and compare the top 5 organizations."
   ]
  },
  {
   "cell_type": "markdown",
   "metadata": {},
   "source": [
    "## Plotting using Pandas\n",
    "\n",
    "Pandas also provide APIs for visualization.\n",
    "* We can use Data Frame's T.plot to plot different types of charts and graphs."
   ]
  }
 ],
 "metadata": {
  "kernelspec": {
   "display_name": "Python 3",
   "language": "python",
   "name": "python3"
  },
  "language_info": {
   "codemirror_mode": {
    "name": "ipython",
    "version": 3
   },
   "file_extension": ".py",
   "mimetype": "text/x-python",
   "name": "python",
   "nbconvert_exporter": "python",
   "pygments_lexer": "ipython3",
   "version": "3.7.7"
  }
 },
 "nbformat": 4,
 "nbformat_minor": 4
}
